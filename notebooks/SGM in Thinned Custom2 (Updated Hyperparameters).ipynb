{
 "cells": [
  {
   "cell_type": "markdown",
   "metadata": {},
   "source": [
    "# Import dependencies"
   ]
  },
  {
   "cell_type": "code",
   "execution_count": 11,
   "metadata": {},
   "outputs": [
    {
     "name": "stdout",
     "output_type": "stream",
     "text": [
      "The autoreload extension is already loaded. To reload it, use:\n",
      "  %reload_ext autoreload\n"
     ]
    }
   ],
   "source": [
    "# Reload modules whenever underlying code changes\n",
    "%load_ext autoreload\n",
    "%autoreload 2"
   ]
  },
  {
   "cell_type": "code",
   "execution_count": 12,
   "metadata": {},
   "outputs": [],
   "source": [
    "# pdb will automatically run on exceptions\n",
    "#%pdb on # currently not working due to https://github.com/ipython/ipykernel/issues/422"
   ]
  },
  {
   "cell_type": "code",
   "execution_count": 13,
   "metadata": {},
   "outputs": [],
   "source": [
    "# import os\n",
    "\n",
    "# # Only occupy one GPU, as in https://stackoverflow.com/questions/37893755/tensorflow-set-cuda-visible-devices-within-jupyter\n",
    "# os.environ[\"CUDA_DEVICE_ORDER\"]=\"PCI_BUS_ID\"   # see issue #152\n",
    "# os.environ[\"CUDA_VISIBLE_DEVICES\"]=\"0\"\n",
    "\n",
    "# # Only allocate GPU memory as needed\n",
    "# os.environ[\"TF_FORCE_GPU_ALLOW_GROWTH\"]=\"true\"\n",
    "\n",
    "# # Suppress tf warning messages\n",
    "# os.environ[\"TF_CPP_MIN_LOG_LEVEL\"]=\"3\""
   ]
  },
  {
   "cell_type": "code",
   "execution_count": 14,
   "metadata": {},
   "outputs": [],
   "source": [
    "%matplotlib inline\n",
    "from sgm.dependencies import *"
   ]
  },
  {
   "cell_type": "markdown",
   "metadata": {},
   "source": [
    "# Initialize untrained agent"
   ]
  },
  {
   "cell_type": "code",
   "execution_count": 15,
   "metadata": {},
   "outputs": [],
   "source": [
    "# config = tf.ConfigProto()\n",
    "# config.gpu_options.allow_growth = True\n",
    "# tf.enable_eager_execution(config=config)"
   ]
  },
  {
   "cell_type": "code",
   "execution_count": 16,
   "metadata": {},
   "outputs": [
    {
     "data": {
      "text/plain": [
       "True"
      ]
     },
     "execution_count": 16,
     "metadata": {},
     "output_type": "execute_result"
    }
   ],
   "source": [
    "# tf.debugging.set_log_device_placement(True)\n",
    "tf.test.is_gpu_available()"
   ]
  },
  {
   "cell_type": "code",
   "execution_count": 17,
   "metadata": {},
   "outputs": [],
   "source": [
    "# from tensorflow.python.client import device_lib\n",
    "# print(device_lib.list_local_devices())"
   ]
  },
  {
   "cell_type": "code",
   "execution_count": 18,
   "metadata": {},
   "outputs": [],
   "source": [
    "tf.reset_default_graph()"
   ]
  },
  {
   "cell_type": "code",
   "execution_count": 19,
   "metadata": {},
   "outputs": [
    {
     "name": "stderr",
     "output_type": "stream",
     "text": [
      "/home/blbudima/miniconda3/envs/sgm/lib/python3.6/site-packages/gym/logger.py:30: UserWarning: \u001b[33mWARN: Box bound precision lowered by casting to float32\u001b[0m\n",
      "  warnings.warn(colorize('%s: %s'%('WARN', msg % args), 'yellow'))\n"
     ]
    }
   ],
   "source": [
    "from sgm.envs import env_load_fn\n",
    "from sgm.agent import UvfAgent\n",
    "\n",
    "# If you change the environment parameters below, make sure to run\n",
    "# tf.reset_default_graph() in the cell above before training.\n",
    "max_episode_steps = 30\n",
    "env_name = 'Custom2'  # Choose one of the environments shown above. \n",
    "resize_factor = 5  # Inflate the environment to increase the difficulty.\n",
    "thin = True # If True, resize by expanding open space, not walls, to make walls thin\n",
    "desc_name = \"thinned_\" + env_name.lower() if thin else env_name.lower()\n",
    "\n",
    "base_dir = os.path.join(os.getcwd(), os.pardir, \"agents\")\n",
    "model_dir = os.path.join(base_dir, desc_name)\n",
    "\n",
    "tf_env = env_load_fn(env_name, max_episode_steps,\n",
    "                     resize_factor=resize_factor,\n",
    "                     terminate_on_timeout=False,\n",
    "                     thin=thin)\n",
    "eval_tf_env = env_load_fn(env_name, max_episode_steps,\n",
    "                          resize_factor=resize_factor,\n",
    "                          terminate_on_timeout=True,\n",
    "                          thin=thin)\n",
    "\n",
    "agent = UvfAgent(\n",
    "    tf_env.time_step_spec(),\n",
    "    tf_env.action_spec(),\n",
    "    max_episode_steps=max_episode_steps,\n",
    "    use_distributional_rl=True,\n",
    "    ensemble_size=3)"
   ]
  },
  {
   "cell_type": "markdown",
   "metadata": {},
   "source": [
    "# Train the agent"
   ]
  },
  {
   "cell_type": "code",
   "execution_count": 20,
   "metadata": {
    "scrolled": true
   },
   "outputs": [
    {
     "name": "stdout",
     "output_type": "stream",
     "text": [
      "INFO:tensorflow:random_seed = 0\n",
      "INFO:tensorflow:Saving checkpoints to directory /home/blbudima/sgm/notebooks/../agents/thinned_custom2/Custom2_coordinate_30steps-May-26-2021-12-18-39-PM/ckpt\n",
      "INFO:tensorflow:Creating tensorboard summary writer with directory /home/blbudima/sgm/notebooks/../agents/thinned_custom2/Custom2_coordinate_30steps-May-26-2021-12-18-39-PM\n"
     ]
    },
    {
     "name": "stderr",
     "output_type": "stream",
     "text": [
      "  3%|▎         | 993/30000 [00:18<06:31, 74.10it/s] "
     ]
    },
    {
     "name": "stdout",
     "output_type": "stream",
     "text": [
      "Saved checkpoint for step 1000: /home/blbudima/sgm/notebooks/../agents/thinned_custom2/Custom2_coordinate_30steps-May-26-2021-12-18-39-PM/ckpt/ckpt-1\n",
      "INFO:tensorflow:step = 1000, loss = 2.895576\n",
      "INFO:tensorflow:60.002 steps/sec\n",
      "INFO:tensorflow:step = 1000\n",
      "INFO:tensorflow:\t set goal dist = 2\n",
      "INFO:tensorflow:\t\t AverageReturn (eval distance=2.000000) -21.60\n",
      "INFO:tensorflow:\t\t predicted_dist = 20.3 (1.5)\n",
      "INFO:tensorflow:\t set goal dist = 5\n",
      "INFO:tensorflow:\t\t AverageReturn (eval distance=5.000000) -27.40\n",
      "INFO:tensorflow:\t\t predicted_dist = 20.2 (1.2)\n",
      "INFO:tensorflow:\t set goal dist = 10\n",
      "INFO:tensorflow:\t\t AverageReturn (eval distance=10.000000) -28.80\n",
      "INFO:tensorflow:\t\t predicted_dist = 20.9 (1.3)\n",
      "INFO:tensorflow:\t eval_time = 4.58\n"
     ]
    },
    {
     "name": "stderr",
     "output_type": "stream",
     "text": [
      "  7%|▋         | 1996/30000 [00:38<07:25, 62.85it/s]  "
     ]
    },
    {
     "name": "stdout",
     "output_type": "stream",
     "text": [
      "Saved checkpoint for step 2000: /home/blbudima/sgm/notebooks/../agents/thinned_custom2/Custom2_coordinate_30steps-May-26-2021-12-18-39-PM/ckpt/ckpt-2\n",
      "INFO:tensorflow:step = 2000, loss = 2.072937\n",
      "INFO:tensorflow:72.864 steps/sec\n",
      "INFO:tensorflow:step = 2000\n",
      "INFO:tensorflow:\t set goal dist = 2\n",
      "INFO:tensorflow:\t\t AverageReturn (eval distance=2.000000) -27.60\n",
      "INFO:tensorflow:\t\t predicted_dist = 24.1 (0.9)\n",
      "INFO:tensorflow:\t set goal dist = 5\n",
      "INFO:tensorflow:\t\t AverageReturn (eval distance=5.000000) -28.00\n",
      "INFO:tensorflow:\t\t predicted_dist = 22.9 (2.7)\n",
      "INFO:tensorflow:\t set goal dist = 10\n",
      "INFO:tensorflow:\t\t AverageReturn (eval distance=10.000000) -26.30\n",
      "INFO:tensorflow:\t\t predicted_dist = 23.3 (2.9)\n",
      "INFO:tensorflow:\t eval_time = 4.66\n"
     ]
    },
    {
     "name": "stderr",
     "output_type": "stream",
     "text": [
      " 10%|▉         | 2995/30000 [00:58<06:46, 66.51it/s]  "
     ]
    },
    {
     "name": "stdout",
     "output_type": "stream",
     "text": [
      "Saved checkpoint for step 3000: /home/blbudima/sgm/notebooks/../agents/thinned_custom2/Custom2_coordinate_30steps-May-26-2021-12-18-39-PM/ckpt/ckpt-3\n",
      "INFO:tensorflow:step = 3000, loss = 1.531834\n",
      "INFO:tensorflow:72.347 steps/sec\n",
      "INFO:tensorflow:step = 3000\n",
      "INFO:tensorflow:\t set goal dist = 2\n",
      "INFO:tensorflow:\t\t AverageReturn (eval distance=2.000000) -27.10\n",
      "INFO:tensorflow:\t\t predicted_dist = 22.4 (4.1)\n",
      "INFO:tensorflow:\t set goal dist = 5\n",
      "INFO:tensorflow:\t\t AverageReturn (eval distance=5.000000) -22.90\n",
      "INFO:tensorflow:\t\t predicted_dist = 24.2 (1.3)\n",
      "INFO:tensorflow:\t set goal dist = 10\n",
      "INFO:tensorflow:\t\t AverageReturn (eval distance=10.000000) -30.00\n",
      "INFO:tensorflow:\t\t predicted_dist = 26.5 (0.8)\n",
      "INFO:tensorflow:\t eval_time = 4.79\n"
     ]
    },
    {
     "name": "stderr",
     "output_type": "stream",
     "text": [
      " 13%|█▎        | 3992/30000 [01:18<06:09, 70.39it/s]  "
     ]
    },
    {
     "name": "stdout",
     "output_type": "stream",
     "text": [
      "Saved checkpoint for step 4000: /home/blbudima/sgm/notebooks/../agents/thinned_custom2/Custom2_coordinate_30steps-May-26-2021-12-18-39-PM/ckpt/ckpt-4\n",
      "INFO:tensorflow:step = 4000, loss = 2.257267\n",
      "INFO:tensorflow:74.177 steps/sec\n",
      "INFO:tensorflow:step = 4000\n",
      "INFO:tensorflow:\t set goal dist = 2\n",
      "INFO:tensorflow:\t\t AverageReturn (eval distance=2.000000) -18.80\n",
      "INFO:tensorflow:\t\t predicted_dist = 20.8 (3.1)\n",
      "INFO:tensorflow:\t set goal dist = 5\n",
      "INFO:tensorflow:\t\t AverageReturn (eval distance=5.000000) -27.50\n",
      "INFO:tensorflow:\t\t predicted_dist = 21.9 (2.9)\n",
      "INFO:tensorflow:\t set goal dist = 10\n",
      "INFO:tensorflow:\t\t AverageReturn (eval distance=10.000000) -30.00\n",
      "INFO:tensorflow:\t\t predicted_dist = 25.2 (1.5)\n",
      "INFO:tensorflow:\t eval_time = 4.23\n"
     ]
    },
    {
     "name": "stderr",
     "output_type": "stream",
     "text": [
      " 17%|█▋        | 4997/30000 [01:38<06:25, 64.94it/s]  "
     ]
    },
    {
     "name": "stdout",
     "output_type": "stream",
     "text": [
      "Saved checkpoint for step 5000: /home/blbudima/sgm/notebooks/../agents/thinned_custom2/Custom2_coordinate_30steps-May-26-2021-12-18-39-PM/ckpt/ckpt-5\n",
      "INFO:tensorflow:step = 5000, loss = 1.452842\n",
      "INFO:tensorflow:75.367 steps/sec\n",
      "INFO:tensorflow:step = 5000\n",
      "INFO:tensorflow:\t set goal dist = 2\n",
      "INFO:tensorflow:\t\t AverageReturn (eval distance=2.000000) -19.20\n",
      "INFO:tensorflow:\t\t predicted_dist = 23.5 (2.2)\n",
      "INFO:tensorflow:\t set goal dist = 5\n",
      "INFO:tensorflow:\t\t AverageReturn (eval distance=5.000000) -27.60\n",
      "INFO:tensorflow:\t\t predicted_dist = 23.6 (2.3)\n",
      "INFO:tensorflow:\t set goal dist = 10\n",
      "INFO:tensorflow:\t\t AverageReturn (eval distance=10.000000) -30.00\n",
      "INFO:tensorflow:\t\t predicted_dist = 26.4 (1.6)\n",
      "INFO:tensorflow:\t eval_time = 4.25\n"
     ]
    },
    {
     "name": "stderr",
     "output_type": "stream",
     "text": [
      " 20%|█▉        | 5998/30000 [01:57<05:40, 70.57it/s]  "
     ]
    },
    {
     "name": "stdout",
     "output_type": "stream",
     "text": [
      "Saved checkpoint for step 6000: /home/blbudima/sgm/notebooks/../agents/thinned_custom2/Custom2_coordinate_30steps-May-26-2021-12-18-39-PM/ckpt/ckpt-6\n",
      "INFO:tensorflow:step = 6000, loss = 1.338652\n",
      "INFO:tensorflow:78.182 steps/sec\n",
      "INFO:tensorflow:step = 6000\n",
      "INFO:tensorflow:\t set goal dist = 2\n",
      "INFO:tensorflow:\t\t AverageReturn (eval distance=2.000000) -21.40\n",
      "INFO:tensorflow:\t\t predicted_dist = 24.7 (2.2)\n",
      "INFO:tensorflow:\t set goal dist = 5\n",
      "INFO:tensorflow:\t\t AverageReturn (eval distance=5.000000) -25.80\n",
      "INFO:tensorflow:\t\t predicted_dist = 25.6 (2.1)\n",
      "INFO:tensorflow:\t set goal dist = 10\n",
      "INFO:tensorflow:\t\t AverageReturn (eval distance=10.000000) -27.80\n",
      "INFO:tensorflow:\t\t predicted_dist = 26.4 (1.6)\n",
      "INFO:tensorflow:\t eval_time = 4.56\n"
     ]
    },
    {
     "name": "stderr",
     "output_type": "stream",
     "text": [
      " 23%|██▎       | 6996/30000 [02:16<05:22, 71.25it/s]  "
     ]
    },
    {
     "name": "stdout",
     "output_type": "stream",
     "text": [
      "Saved checkpoint for step 7000: /home/blbudima/sgm/notebooks/../agents/thinned_custom2/Custom2_coordinate_30steps-May-26-2021-12-18-39-PM/ckpt/ckpt-7\n",
      "INFO:tensorflow:step = 7000, loss = 1.488875\n",
      "INFO:tensorflow:73.700 steps/sec\n",
      "INFO:tensorflow:step = 7000\n",
      "INFO:tensorflow:\t set goal dist = 2\n",
      "INFO:tensorflow:\t\t AverageReturn (eval distance=2.000000) -25.70\n",
      "INFO:tensorflow:\t\t predicted_dist = 24.2 (1.3)\n",
      "INFO:tensorflow:\t set goal dist = 5\n",
      "INFO:tensorflow:\t\t AverageReturn (eval distance=5.000000) -27.90\n",
      "INFO:tensorflow:\t\t predicted_dist = 24.9 (2.4)\n",
      "INFO:tensorflow:\t set goal dist = 10\n",
      "INFO:tensorflow:\t\t AverageReturn (eval distance=10.000000) -30.00\n",
      "INFO:tensorflow:\t\t predicted_dist = 26.5 (2.2)\n",
      "INFO:tensorflow:\t eval_time = 4.48\n"
     ]
    },
    {
     "name": "stderr",
     "output_type": "stream",
     "text": [
      " 27%|██▋       | 7998/30000 [02:36<06:07, 59.89it/s]  "
     ]
    },
    {
     "name": "stdout",
     "output_type": "stream",
     "text": [
      "Saved checkpoint for step 8000: /home/blbudima/sgm/notebooks/../agents/thinned_custom2/Custom2_coordinate_30steps-May-26-2021-12-18-39-PM/ckpt/ckpt-8\n",
      "INFO:tensorflow:step = 8000, loss = 1.441087\n",
      "INFO:tensorflow:73.094 steps/sec\n",
      "INFO:tensorflow:step = 8000\n",
      "INFO:tensorflow:\t set goal dist = 2\n",
      "INFO:tensorflow:\t\t AverageReturn (eval distance=2.000000) -24.30\n",
      "INFO:tensorflow:\t\t predicted_dist = 24.9 (2.0)\n",
      "INFO:tensorflow:\t set goal dist = 5\n",
      "INFO:tensorflow:\t\t AverageReturn (eval distance=5.000000) -27.70\n",
      "INFO:tensorflow:\t\t predicted_dist = 26.0 (2.1)\n",
      "INFO:tensorflow:\t set goal dist = 10\n",
      "INFO:tensorflow:\t\t AverageReturn (eval distance=10.000000) -26.90\n",
      "INFO:tensorflow:\t\t predicted_dist = 27.1 (1.4)\n",
      "INFO:tensorflow:\t eval_time = 4.67\n"
     ]
    },
    {
     "name": "stderr",
     "output_type": "stream",
     "text": [
      " 30%|██▉       | 8994/30000 [02:56<06:09, 56.79it/s]  "
     ]
    },
    {
     "name": "stdout",
     "output_type": "stream",
     "text": [
      "Saved checkpoint for step 9000: /home/blbudima/sgm/notebooks/../agents/thinned_custom2/Custom2_coordinate_30steps-May-26-2021-12-18-39-PM/ckpt/ckpt-9\n",
      "INFO:tensorflow:step = 9000, loss = 1.392216\n",
      "INFO:tensorflow:75.240 steps/sec\n",
      "INFO:tensorflow:step = 9000\n",
      "INFO:tensorflow:\t set goal dist = 2\n",
      "INFO:tensorflow:\t\t AverageReturn (eval distance=2.000000) -16.70\n",
      "INFO:tensorflow:\t\t predicted_dist = 22.1 (4.5)\n",
      "INFO:tensorflow:\t set goal dist = 5\n",
      "INFO:tensorflow:\t\t AverageReturn (eval distance=5.000000) -21.70\n",
      "INFO:tensorflow:\t\t predicted_dist = 26.5 (0.8)\n",
      "INFO:tensorflow:\t set goal dist = 10\n",
      "INFO:tensorflow:\t\t AverageReturn (eval distance=10.000000) -26.60\n",
      "INFO:tensorflow:\t\t predicted_dist = 27.6 (1.2)\n",
      "INFO:tensorflow:\t eval_time = 3.91\n"
     ]
    },
    {
     "name": "stderr",
     "output_type": "stream",
     "text": [
      " 33%|███▎      | 9993/30000 [03:16<05:20, 62.36it/s]  "
     ]
    },
    {
     "name": "stdout",
     "output_type": "stream",
     "text": [
      "Saved checkpoint for step 10000: /home/blbudima/sgm/notebooks/../agents/thinned_custom2/Custom2_coordinate_30steps-May-26-2021-12-18-39-PM/ckpt/ckpt-10\n",
      "INFO:tensorflow:step = 10000, loss = 1.352350\n",
      "INFO:tensorflow:70.949 steps/sec\n",
      "INFO:tensorflow:step = 10000\n",
      "INFO:tensorflow:\t set goal dist = 2\n",
      "INFO:tensorflow:\t\t AverageReturn (eval distance=2.000000) -19.10\n",
      "INFO:tensorflow:\t\t predicted_dist = 21.0 (4.3)\n",
      "INFO:tensorflow:\t set goal dist = 5\n",
      "INFO:tensorflow:\t\t AverageReturn (eval distance=5.000000) -30.00\n",
      "INFO:tensorflow:\t\t predicted_dist = 23.9 (2.5)\n",
      "INFO:tensorflow:\t set goal dist = 10\n",
      "INFO:tensorflow:\t\t AverageReturn (eval distance=10.000000) -30.00\n",
      "INFO:tensorflow:\t\t predicted_dist = 26.8 (1.2)\n",
      "INFO:tensorflow:\t eval_time = 4.64\n"
     ]
    },
    {
     "name": "stderr",
     "output_type": "stream",
     "text": [
      " 37%|███▋      | 10995/30000 [03:37<05:21, 59.19it/s]  "
     ]
    },
    {
     "name": "stdout",
     "output_type": "stream",
     "text": [
      "Saved checkpoint for step 11000: /home/blbudima/sgm/notebooks/../agents/thinned_custom2/Custom2_coordinate_30steps-May-26-2021-12-18-39-PM/ckpt/ckpt-11\n",
      "INFO:tensorflow:step = 11000, loss = 2.033256\n",
      "INFO:tensorflow:69.280 steps/sec\n",
      "INFO:tensorflow:step = 11000\n",
      "INFO:tensorflow:\t set goal dist = 2\n",
      "INFO:tensorflow:\t\t AverageReturn (eval distance=2.000000) -19.20\n",
      "INFO:tensorflow:\t\t predicted_dist = 18.7 (2.0)\n",
      "INFO:tensorflow:\t set goal dist = 5\n",
      "INFO:tensorflow:\t\t AverageReturn (eval distance=5.000000) -24.50\n",
      "INFO:tensorflow:\t\t predicted_dist = 22.1 (2.4)\n",
      "INFO:tensorflow:\t set goal dist = 10\n",
      "INFO:tensorflow:\t\t AverageReturn (eval distance=10.000000) -30.00\n",
      "INFO:tensorflow:\t\t predicted_dist = 24.6 (0.9)\n",
      "INFO:tensorflow:\t eval_time = 4.53\n"
     ]
    },
    {
     "name": "stderr",
     "output_type": "stream",
     "text": [
      " 40%|███▉      | 11994/30000 [03:57<03:55, 76.37it/s]  "
     ]
    },
    {
     "name": "stdout",
     "output_type": "stream",
     "text": [
      "Saved checkpoint for step 12000: /home/blbudima/sgm/notebooks/../agents/thinned_custom2/Custom2_coordinate_30steps-May-26-2021-12-18-39-PM/ckpt/ckpt-12\n",
      "INFO:tensorflow:step = 12000, loss = 2.599089\n",
      "INFO:tensorflow:73.171 steps/sec\n",
      "INFO:tensorflow:step = 12000\n",
      "INFO:tensorflow:\t set goal dist = 2\n",
      "INFO:tensorflow:\t\t AverageReturn (eval distance=2.000000) -17.10\n",
      "INFO:tensorflow:\t\t predicted_dist = 19.6 (3.0)\n",
      "INFO:tensorflow:\t set goal dist = 5\n",
      "INFO:tensorflow:\t\t AverageReturn (eval distance=5.000000) -23.90\n",
      "INFO:tensorflow:\t\t predicted_dist = 21.7 (1.8)\n",
      "INFO:tensorflow:\t set goal dist = 10\n",
      "INFO:tensorflow:\t\t AverageReturn (eval distance=10.000000) -30.00\n",
      "INFO:tensorflow:\t\t predicted_dist = 23.7 (1.3)\n",
      "INFO:tensorflow:\t eval_time = 4.12\n"
     ]
    },
    {
     "name": "stderr",
     "output_type": "stream",
     "text": [
      " 43%|████▎     | 12999/30000 [04:17<07:56, 35.69it/s]"
     ]
    },
    {
     "name": "stdout",
     "output_type": "stream",
     "text": [
      "Saved checkpoint for step 13000: /home/blbudima/sgm/notebooks/../agents/thinned_custom2/Custom2_coordinate_30steps-May-26-2021-12-18-39-PM/ckpt/ckpt-13\n",
      "INFO:tensorflow:step = 13000, loss = 2.398714\n",
      "INFO:tensorflow:70.893 steps/sec\n",
      "INFO:tensorflow:step = 13000\n",
      "INFO:tensorflow:\t set goal dist = 2\n",
      "INFO:tensorflow:\t\t AverageReturn (eval distance=2.000000) -15.50\n",
      "INFO:tensorflow:\t\t predicted_dist = 20.1 (2.6)\n",
      "INFO:tensorflow:\t set goal dist = 5\n",
      "INFO:tensorflow:\t\t AverageReturn (eval distance=5.000000) -20.30\n",
      "INFO:tensorflow:\t\t predicted_dist = 22.6 (2.2)\n",
      "INFO:tensorflow:\t set goal dist = 10\n",
      "INFO:tensorflow:\t\t AverageReturn (eval distance=10.000000) -25.60\n",
      "INFO:tensorflow:\t\t predicted_dist = 25.2 (1.4)\n",
      "INFO:tensorflow:\t eval_time = 3.68\n"
     ]
    },
    {
     "name": "stderr",
     "output_type": "stream",
     "text": [
      " 47%|████▋     | 13998/30000 [04:36<03:42, 71.82it/s]"
     ]
    },
    {
     "name": "stdout",
     "output_type": "stream",
     "text": [
      "Saved checkpoint for step 14000: /home/blbudima/sgm/notebooks/../agents/thinned_custom2/Custom2_coordinate_30steps-May-26-2021-12-18-39-PM/ckpt/ckpt-14\n",
      "INFO:tensorflow:step = 14000, loss = 2.306602\n",
      "INFO:tensorflow:74.703 steps/sec\n",
      "INFO:tensorflow:step = 14000\n",
      "INFO:tensorflow:\t set goal dist = 2\n",
      "INFO:tensorflow:\t\t AverageReturn (eval distance=2.000000) -13.70\n",
      "INFO:tensorflow:\t\t predicted_dist = 17.6 (4.3)\n",
      "INFO:tensorflow:\t set goal dist = 5\n",
      "INFO:tensorflow:\t\t AverageReturn (eval distance=5.000000) -21.60\n",
      "INFO:tensorflow:\t\t predicted_dist = 22.4 (1.2)\n",
      "INFO:tensorflow:\t set goal dist = 10\n",
      "INFO:tensorflow:\t\t AverageReturn (eval distance=10.000000) -28.40\n",
      "INFO:tensorflow:\t\t predicted_dist = 24.0 (1.6)\n",
      "INFO:tensorflow:\t eval_time = 3.96\n"
     ]
    },
    {
     "name": "stderr",
     "output_type": "stream",
     "text": [
      " 50%|████▉     | 14996/30000 [04:56<03:46, 66.12it/s]"
     ]
    },
    {
     "name": "stdout",
     "output_type": "stream",
     "text": [
      "Saved checkpoint for step 15000: /home/blbudima/sgm/notebooks/../agents/thinned_custom2/Custom2_coordinate_30steps-May-26-2021-12-18-39-PM/ckpt/ckpt-15\n",
      "INFO:tensorflow:step = 15000, loss = 2.532920\n",
      "INFO:tensorflow:71.847 steps/sec\n",
      "INFO:tensorflow:step = 15000\n",
      "INFO:tensorflow:\t set goal dist = 2\n",
      "INFO:tensorflow:\t\t AverageReturn (eval distance=2.000000) -8.20\n",
      "INFO:tensorflow:\t\t predicted_dist = 17.5 (2.8)\n",
      "INFO:tensorflow:\t set goal dist = 5\n",
      "INFO:tensorflow:\t\t AverageReturn (eval distance=5.000000) -21.20\n",
      "INFO:tensorflow:\t\t predicted_dist = 20.9 (3.2)\n",
      "INFO:tensorflow:\t set goal dist = 10\n",
      "INFO:tensorflow:\t\t AverageReturn (eval distance=10.000000) -25.50\n",
      "INFO:tensorflow:\t\t predicted_dist = 19.8 (2.4)\n",
      "INFO:tensorflow:\t eval_time = 3.32\n"
     ]
    },
    {
     "name": "stderr",
     "output_type": "stream",
     "text": [
      " 53%|█████▎    | 15996/30000 [05:15<03:41, 63.36it/s]"
     ]
    },
    {
     "name": "stdout",
     "output_type": "stream",
     "text": [
      "Saved checkpoint for step 16000: /home/blbudima/sgm/notebooks/../agents/thinned_custom2/Custom2_coordinate_30steps-May-26-2021-12-18-39-PM/ckpt/ckpt-16\n",
      "INFO:tensorflow:step = 16000, loss = 2.722070\n",
      "INFO:tensorflow:71.550 steps/sec\n",
      "INFO:tensorflow:step = 16000\n",
      "INFO:tensorflow:\t set goal dist = 2\n",
      "INFO:tensorflow:\t\t AverageReturn (eval distance=2.000000) -17.00\n",
      "INFO:tensorflow:\t\t predicted_dist = 15.0 (2.1)\n",
      "INFO:tensorflow:\t set goal dist = 5\n",
      "INFO:tensorflow:\t\t AverageReturn (eval distance=5.000000) -21.40\n",
      "INFO:tensorflow:\t\t predicted_dist = 19.0 (2.0)\n",
      "INFO:tensorflow:\t set goal dist = 10\n",
      "INFO:tensorflow:\t\t AverageReturn (eval distance=10.000000) -26.90\n",
      "INFO:tensorflow:\t\t predicted_dist = 19.7 (1.8)\n",
      "INFO:tensorflow:\t eval_time = 3.90\n"
     ]
    },
    {
     "name": "stderr",
     "output_type": "stream",
     "text": [
      " 57%|█████▋    | 16992/30000 [05:34<02:52, 75.59it/s]"
     ]
    },
    {
     "name": "stdout",
     "output_type": "stream",
     "text": [
      "Saved checkpoint for step 17000: /home/blbudima/sgm/notebooks/../agents/thinned_custom2/Custom2_coordinate_30steps-May-26-2021-12-18-39-PM/ckpt/ckpt-17\n",
      "INFO:tensorflow:step = 17000, loss = 2.996106\n",
      "INFO:tensorflow:73.758 steps/sec\n",
      "INFO:tensorflow:step = 17000\n",
      "INFO:tensorflow:\t set goal dist = 2\n",
      "INFO:tensorflow:\t\t AverageReturn (eval distance=2.000000) -11.00\n",
      "INFO:tensorflow:\t\t predicted_dist = 15.3 (3.3)\n",
      "INFO:tensorflow:\t set goal dist = 5\n",
      "INFO:tensorflow:\t\t AverageReturn (eval distance=5.000000) -19.50\n",
      "INFO:tensorflow:\t\t predicted_dist = 17.5 (2.0)\n",
      "INFO:tensorflow:\t set goal dist = 10\n",
      "INFO:tensorflow:\t\t AverageReturn (eval distance=10.000000) -25.20\n",
      "INFO:tensorflow:\t\t predicted_dist = 21.6 (1.6)\n",
      "INFO:tensorflow:\t eval_time = 3.76\n"
     ]
    },
    {
     "name": "stderr",
     "output_type": "stream",
     "text": [
      " 60%|█████▉    | 17998/30000 [05:53<03:08, 63.65it/s]"
     ]
    },
    {
     "name": "stdout",
     "output_type": "stream",
     "text": [
      "Saved checkpoint for step 18000: /home/blbudima/sgm/notebooks/../agents/thinned_custom2/Custom2_coordinate_30steps-May-26-2021-12-18-39-PM/ckpt/ckpt-18\n",
      "INFO:tensorflow:step = 18000, loss = 2.659230\n",
      "INFO:tensorflow:76.870 steps/sec\n",
      "INFO:tensorflow:step = 18000\n",
      "INFO:tensorflow:\t set goal dist = 2\n",
      "INFO:tensorflow:\t\t AverageReturn (eval distance=2.000000) -9.20\n",
      "INFO:tensorflow:\t\t predicted_dist = 13.7 (4.4)\n",
      "INFO:tensorflow:\t set goal dist = 5\n",
      "INFO:tensorflow:\t\t AverageReturn (eval distance=5.000000) -19.40\n",
      "INFO:tensorflow:\t\t predicted_dist = 17.9 (1.9)\n",
      "INFO:tensorflow:\t set goal dist = 10\n",
      "INFO:tensorflow:\t\t AverageReturn (eval distance=10.000000) -24.70\n",
      "INFO:tensorflow:\t\t predicted_dist = 21.7 (1.4)\n",
      "INFO:tensorflow:\t eval_time = 3.67\n"
     ]
    },
    {
     "name": "stderr",
     "output_type": "stream",
     "text": [
      " 63%|██████▎   | 18993/30000 [06:10<02:30, 73.25it/s]"
     ]
    },
    {
     "name": "stdout",
     "output_type": "stream",
     "text": [
      "Saved checkpoint for step 19000: /home/blbudima/sgm/notebooks/../agents/thinned_custom2/Custom2_coordinate_30steps-May-26-2021-12-18-39-PM/ckpt/ckpt-19\n",
      "INFO:tensorflow:step = 19000, loss = 3.164166\n",
      "INFO:tensorflow:79.616 steps/sec\n",
      "INFO:tensorflow:step = 19000\n",
      "INFO:tensorflow:\t set goal dist = 2\n",
      "INFO:tensorflow:\t\t AverageReturn (eval distance=2.000000) -8.10\n",
      "INFO:tensorflow:\t\t predicted_dist = 12.2 (3.5)\n",
      "INFO:tensorflow:\t set goal dist = 5\n",
      "INFO:tensorflow:\t\t AverageReturn (eval distance=5.000000) -14.80\n",
      "INFO:tensorflow:\t\t predicted_dist = 18.5 (2.4)\n",
      "INFO:tensorflow:\t set goal dist = 10\n",
      "INFO:tensorflow:\t\t AverageReturn (eval distance=10.000000) -18.70\n",
      "INFO:tensorflow:\t\t predicted_dist = 20.6 (1.6)\n",
      "INFO:tensorflow:\t eval_time = 2.93\n"
     ]
    },
    {
     "name": "stderr",
     "output_type": "stream",
     "text": [
      " 67%|██████▋   | 19995/30000 [06:29<02:27, 68.00it/s]"
     ]
    },
    {
     "name": "stdout",
     "output_type": "stream",
     "text": [
      "Saved checkpoint for step 20000: /home/blbudima/sgm/notebooks/../agents/thinned_custom2/Custom2_coordinate_30steps-May-26-2021-12-18-39-PM/ckpt/ckpt-20\n",
      "INFO:tensorflow:step = 20000, loss = 2.992574\n",
      "INFO:tensorflow:72.021 steps/sec\n",
      "INFO:tensorflow:step = 20000\n",
      "INFO:tensorflow:\t set goal dist = 2\n",
      "INFO:tensorflow:\t\t AverageReturn (eval distance=2.000000) -5.40\n",
      "INFO:tensorflow:\t\t predicted_dist = 8.4 (3.4)\n",
      "INFO:tensorflow:\t set goal dist = 5\n",
      "INFO:tensorflow:\t\t AverageReturn (eval distance=5.000000) -10.40\n",
      "INFO:tensorflow:\t\t predicted_dist = 13.5 (1.6)\n",
      "INFO:tensorflow:\t set goal dist = 10\n",
      "INFO:tensorflow:\t\t AverageReturn (eval distance=10.000000) -18.90\n",
      "INFO:tensorflow:\t\t predicted_dist = 19.3 (1.7)\n",
      "INFO:tensorflow:\t eval_time = 2.76\n"
     ]
    },
    {
     "name": "stderr",
     "output_type": "stream",
     "text": [
      " 70%|██████▉   | 20994/30000 [06:48<02:15, 66.38it/s]"
     ]
    },
    {
     "name": "stdout",
     "output_type": "stream",
     "text": [
      "Saved checkpoint for step 21000: /home/blbudima/sgm/notebooks/../agents/thinned_custom2/Custom2_coordinate_30steps-May-26-2021-12-18-39-PM/ckpt/ckpt-21\n",
      "INFO:tensorflow:step = 21000, loss = 3.261353\n",
      "INFO:tensorflow:70.629 steps/sec\n",
      "INFO:tensorflow:step = 21000\n",
      "INFO:tensorflow:\t set goal dist = 2\n",
      "INFO:tensorflow:\t\t AverageReturn (eval distance=2.000000) -3.30\n",
      "INFO:tensorflow:\t\t predicted_dist = 7.7 (1.8)\n",
      "INFO:tensorflow:\t set goal dist = 5\n",
      "INFO:tensorflow:\t\t AverageReturn (eval distance=5.000000) -8.10\n",
      "INFO:tensorflow:\t\t predicted_dist = 11.6 (1.9)\n",
      "INFO:tensorflow:\t set goal dist = 10\n",
      "INFO:tensorflow:\t\t AverageReturn (eval distance=10.000000) -16.90\n",
      "INFO:tensorflow:\t\t predicted_dist = 15.2 (1.5)\n",
      "INFO:tensorflow:\t eval_time = 2.59\n"
     ]
    },
    {
     "name": "stderr",
     "output_type": "stream",
     "text": [
      " 73%|███████▎  | 21995/30000 [07:06<02:04, 64.35it/s]"
     ]
    },
    {
     "name": "stdout",
     "output_type": "stream",
     "text": [
      "Saved checkpoint for step 22000: /home/blbudima/sgm/notebooks/../agents/thinned_custom2/Custom2_coordinate_30steps-May-26-2021-12-18-39-PM/ckpt/ckpt-22\n",
      "INFO:tensorflow:step = 22000, loss = 3.151783\n",
      "INFO:tensorflow:72.172 steps/sec\n",
      "INFO:tensorflow:step = 22000\n",
      "INFO:tensorflow:\t set goal dist = 2\n",
      "INFO:tensorflow:\t\t AverageReturn (eval distance=2.000000) -3.30\n",
      "INFO:tensorflow:\t\t predicted_dist = 8.4 (1.9)\n",
      "INFO:tensorflow:\t set goal dist = 5\n",
      "INFO:tensorflow:\t\t AverageReturn (eval distance=5.000000) -9.70\n",
      "INFO:tensorflow:\t\t predicted_dist = 12.8 (1.1)\n",
      "INFO:tensorflow:\t set goal dist = 10\n",
      "INFO:tensorflow:\t\t AverageReturn (eval distance=10.000000) -14.70\n",
      "INFO:tensorflow:\t\t predicted_dist = 15.2 (2.1)\n",
      "INFO:tensorflow:\t eval_time = 2.49\n"
     ]
    },
    {
     "name": "stderr",
     "output_type": "stream",
     "text": [
      " 77%|███████▋  | 22997/30000 [07:25<01:41, 69.32it/s]"
     ]
    },
    {
     "name": "stdout",
     "output_type": "stream",
     "text": [
      "Saved checkpoint for step 23000: /home/blbudima/sgm/notebooks/../agents/thinned_custom2/Custom2_coordinate_30steps-May-26-2021-12-18-39-PM/ckpt/ckpt-23\n",
      "INFO:tensorflow:step = 23000, loss = 3.089851\n",
      "INFO:tensorflow:71.481 steps/sec\n",
      "INFO:tensorflow:step = 23000\n",
      "INFO:tensorflow:\t set goal dist = 2\n",
      "INFO:tensorflow:\t\t AverageReturn (eval distance=2.000000) -5.60\n",
      "INFO:tensorflow:\t\t predicted_dist = 9.5 (1.8)\n",
      "INFO:tensorflow:\t set goal dist = 5\n",
      "INFO:tensorflow:\t\t AverageReturn (eval distance=5.000000) -12.20\n",
      "INFO:tensorflow:\t\t predicted_dist = 12.5 (1.9)\n",
      "INFO:tensorflow:\t set goal dist = 10\n",
      "INFO:tensorflow:\t\t AverageReturn (eval distance=10.000000) -20.50\n",
      "INFO:tensorflow:\t\t predicted_dist = 15.8 (1.7)\n",
      "INFO:tensorflow:\t eval_time = 2.84\n"
     ]
    },
    {
     "name": "stderr",
     "output_type": "stream",
     "text": [
      " 80%|███████▉  | 23996/30000 [07:44<01:36, 62.49it/s]"
     ]
    },
    {
     "name": "stdout",
     "output_type": "stream",
     "text": [
      "Saved checkpoint for step 24000: /home/blbudima/sgm/notebooks/../agents/thinned_custom2/Custom2_coordinate_30steps-May-26-2021-12-18-39-PM/ckpt/ckpt-24\n",
      "INFO:tensorflow:step = 24000, loss = 3.212645\n",
      "INFO:tensorflow:70.492 steps/sec\n",
      "INFO:tensorflow:step = 24000\n",
      "INFO:tensorflow:\t set goal dist = 2\n",
      "INFO:tensorflow:\t\t AverageReturn (eval distance=2.000000) -3.40\n",
      "INFO:tensorflow:\t\t predicted_dist = 7.5 (2.2)\n",
      "INFO:tensorflow:\t set goal dist = 5\n",
      "INFO:tensorflow:\t\t AverageReturn (eval distance=5.000000) -7.70\n",
      "INFO:tensorflow:\t\t predicted_dist = 12.7 (1.4)\n",
      "INFO:tensorflow:\t set goal dist = 10\n",
      "INFO:tensorflow:\t\t AverageReturn (eval distance=10.000000) -16.80\n",
      "INFO:tensorflow:\t\t predicted_dist = 15.5 (1.0)\n",
      "INFO:tensorflow:\t eval_time = 2.47\n"
     ]
    },
    {
     "name": "stderr",
     "output_type": "stream",
     "text": [
      " 83%|████████▎ | 24998/30000 [08:02<01:25, 58.61it/s]"
     ]
    },
    {
     "name": "stdout",
     "output_type": "stream",
     "text": [
      "Saved checkpoint for step 25000: /home/blbudima/sgm/notebooks/../agents/thinned_custom2/Custom2_coordinate_30steps-May-26-2021-12-18-39-PM/ckpt/ckpt-25\n",
      "INFO:tensorflow:step = 25000, loss = 3.328548\n",
      "INFO:tensorflow:70.821 steps/sec\n",
      "INFO:tensorflow:step = 25000\n",
      "INFO:tensorflow:\t set goal dist = 2\n",
      "INFO:tensorflow:\t\t AverageReturn (eval distance=2.000000) -3.80\n",
      "INFO:tensorflow:\t\t predicted_dist = 8.1 (2.5)\n",
      "INFO:tensorflow:\t set goal dist = 5\n",
      "INFO:tensorflow:\t\t AverageReturn (eval distance=5.000000) -8.10\n",
      "INFO:tensorflow:\t\t predicted_dist = 11.6 (1.3)\n",
      "INFO:tensorflow:\t set goal dist = 10\n",
      "INFO:tensorflow:\t\t AverageReturn (eval distance=10.000000) -18.30\n",
      "INFO:tensorflow:\t\t predicted_dist = 15.2 (1.3)\n",
      "INFO:tensorflow:\t eval_time = 2.59\n"
     ]
    },
    {
     "name": "stderr",
     "output_type": "stream",
     "text": [
      " 87%|████████▋ | 25997/30000 [08:20<01:02, 64.00it/s]"
     ]
    },
    {
     "name": "stdout",
     "output_type": "stream",
     "text": [
      "Saved checkpoint for step 26000: /home/blbudima/sgm/notebooks/../agents/thinned_custom2/Custom2_coordinate_30steps-May-26-2021-12-18-39-PM/ckpt/ckpt-26\n",
      "INFO:tensorflow:step = 26000, loss = 3.433204\n",
      "INFO:tensorflow:72.103 steps/sec\n",
      "INFO:tensorflow:step = 26000\n",
      "INFO:tensorflow:\t set goal dist = 2\n",
      "INFO:tensorflow:\t\t AverageReturn (eval distance=2.000000) -3.20\n",
      "INFO:tensorflow:\t\t predicted_dist = 7.1 (2.7)\n",
      "INFO:tensorflow:\t set goal dist = 5\n",
      "INFO:tensorflow:\t\t AverageReturn (eval distance=5.000000) -6.80\n",
      "INFO:tensorflow:\t\t predicted_dist = 12.0 (1.5)\n",
      "INFO:tensorflow:\t set goal dist = 10\n",
      "INFO:tensorflow:\t\t AverageReturn (eval distance=10.000000) -18.80\n",
      "INFO:tensorflow:\t\t predicted_dist = 14.6 (0.9)\n",
      "INFO:tensorflow:\t eval_time = 2.45\n"
     ]
    },
    {
     "name": "stderr",
     "output_type": "stream",
     "text": [
      " 90%|████████▉ | 26999/30000 [08:39<01:34, 31.74it/s]"
     ]
    },
    {
     "name": "stdout",
     "output_type": "stream",
     "text": [
      "Saved checkpoint for step 27000: /home/blbudima/sgm/notebooks/../agents/thinned_custom2/Custom2_coordinate_30steps-May-26-2021-12-18-39-PM/ckpt/ckpt-27\n",
      "INFO:tensorflow:step = 27000, loss = 3.369100\n",
      "INFO:tensorflow:69.632 steps/sec\n",
      "INFO:tensorflow:step = 27000\n",
      "INFO:tensorflow:\t set goal dist = 2\n",
      "INFO:tensorflow:\t\t AverageReturn (eval distance=2.000000) -4.80\n",
      "INFO:tensorflow:\t\t predicted_dist = 6.6 (1.8)\n",
      "INFO:tensorflow:\t set goal dist = 5\n",
      "INFO:tensorflow:\t\t AverageReturn (eval distance=5.000000) -8.80\n",
      "INFO:tensorflow:\t\t predicted_dist = 11.1 (1.4)\n",
      "INFO:tensorflow:\t set goal dist = 10\n",
      "INFO:tensorflow:\t\t AverageReturn (eval distance=10.000000) -16.50\n",
      "INFO:tensorflow:\t\t predicted_dist = 16.0 (0.7)\n",
      "INFO:tensorflow:\t eval_time = 2.37\n"
     ]
    },
    {
     "name": "stderr",
     "output_type": "stream",
     "text": [
      " 93%|█████████▎| 27993/30000 [08:57<00:31, 63.56it/s]"
     ]
    },
    {
     "name": "stdout",
     "output_type": "stream",
     "text": [
      "Saved checkpoint for step 28000: /home/blbudima/sgm/notebooks/../agents/thinned_custom2/Custom2_coordinate_30steps-May-26-2021-12-18-39-PM/ckpt/ckpt-28\n",
      "INFO:tensorflow:step = 28000, loss = 2.951223\n",
      "INFO:tensorflow:71.859 steps/sec\n",
      "INFO:tensorflow:step = 28000\n",
      "INFO:tensorflow:\t set goal dist = 2\n",
      "INFO:tensorflow:\t\t AverageReturn (eval distance=2.000000) -3.80\n",
      "INFO:tensorflow:\t\t predicted_dist = 6.7 (1.5)\n",
      "INFO:tensorflow:\t set goal dist = 5\n",
      "INFO:tensorflow:\t\t AverageReturn (eval distance=5.000000) -7.70\n",
      "INFO:tensorflow:\t\t predicted_dist = 10.5 (1.5)\n",
      "INFO:tensorflow:\t set goal dist = 10\n",
      "INFO:tensorflow:\t\t AverageReturn (eval distance=10.000000) -18.10\n",
      "INFO:tensorflow:\t\t predicted_dist = 15.0 (1.1)\n",
      "INFO:tensorflow:\t eval_time = 2.42\n"
     ]
    },
    {
     "name": "stderr",
     "output_type": "stream",
     "text": [
      " 97%|█████████▋| 28995/30000 [09:17<00:15, 63.78it/s]"
     ]
    },
    {
     "name": "stdout",
     "output_type": "stream",
     "text": [
      "Saved checkpoint for step 29000: /home/blbudima/sgm/notebooks/../agents/thinned_custom2/Custom2_coordinate_30steps-May-26-2021-12-18-39-PM/ckpt/ckpt-29\n",
      "INFO:tensorflow:step = 29000, loss = 3.282569\n",
      "INFO:tensorflow:67.503 steps/sec\n",
      "INFO:tensorflow:step = 29000\n",
      "INFO:tensorflow:\t set goal dist = 2\n",
      "INFO:tensorflow:\t\t AverageReturn (eval distance=2.000000) -3.70\n",
      "INFO:tensorflow:\t\t predicted_dist = 7.8 (1.1)\n",
      "INFO:tensorflow:\t set goal dist = 5\n",
      "INFO:tensorflow:\t\t AverageReturn (eval distance=5.000000) -10.50\n",
      "INFO:tensorflow:\t\t predicted_dist = 12.1 (1.4)\n",
      "INFO:tensorflow:\t set goal dist = 10\n",
      "INFO:tensorflow:\t\t AverageReturn (eval distance=10.000000) -16.90\n",
      "INFO:tensorflow:\t\t predicted_dist = 15.6 (1.2)\n",
      "INFO:tensorflow:\t eval_time = 2.66\n"
     ]
    },
    {
     "name": "stderr",
     "output_type": "stream",
     "text": [
      "100%|█████████▉| 29998/30000 [09:36<00:00, 63.71it/s]"
     ]
    },
    {
     "name": "stdout",
     "output_type": "stream",
     "text": [
      "Saved checkpoint for step 30000: /home/blbudima/sgm/notebooks/../agents/thinned_custom2/Custom2_coordinate_30steps-May-26-2021-12-18-39-PM/ckpt/ckpt-30\n",
      "INFO:tensorflow:step = 30000, loss = 2.772385\n",
      "INFO:tensorflow:66.653 steps/sec\n",
      "INFO:tensorflow:step = 30000\n",
      "INFO:tensorflow:\t set goal dist = 2\n",
      "INFO:tensorflow:\t\t AverageReturn (eval distance=2.000000) -2.80\n",
      "INFO:tensorflow:\t\t predicted_dist = 6.8 (1.8)\n",
      "INFO:tensorflow:\t set goal dist = 5\n",
      "INFO:tensorflow:\t\t AverageReturn (eval distance=5.000000) -9.80\n",
      "INFO:tensorflow:\t\t predicted_dist = 10.5 (1.0)\n",
      "INFO:tensorflow:\t set goal dist = 10\n",
      "INFO:tensorflow:\t\t AverageReturn (eval distance=10.000000) -18.80\n",
      "INFO:tensorflow:\t\t predicted_dist = 14.3 (1.4)\n",
      "INFO:tensorflow:\t eval_time = 2.52\n"
     ]
    },
    {
     "name": "stderr",
     "output_type": "stream",
     "text": [
      "100%|██████████| 30000/30000 [09:39<00:00, 51.76it/s]\n"
     ]
    },
    {
     "data": {
      "text/plain": [
       "LossInfo(loss=<tf.Tensor: id=2304840, shape=(), dtype=float32, numpy=2.7723846>, extra=(<tf.Tensor: id=2304841, shape=(), dtype=float32, numpy=0.5039152>, <tf.Tensor: id=2304842, shape=(), dtype=float32, numpy=2.2684696>))"
      ]
     },
     "execution_count": 20,
     "metadata": {},
     "output_type": "execute_result"
    }
   ],
   "source": [
    "# from sgm.trainer import train_eval\n",
    "\n",
    "# train_eval(agent,\n",
    "#           tf_env,\n",
    "#           eval_tf_env,\n",
    "#           initial_collect_steps=1000,\n",
    "#           eval_interval=1000,\n",
    "#           num_eval_episodes=10,\n",
    "#           num_iterations=30000,\n",
    "#           save_model_dir=model_dir,\n",
    "#           experiment_name=f\"{env_name}_coordinate_{max_episode_steps}steps\")"
   ]
  },
  {
   "cell_type": "markdown",
   "metadata": {},
   "source": [
    "# Load trained model into agent"
   ]
  },
  {
   "cell_type": "code",
   "execution_count": null,
   "metadata": {},
   "outputs": [],
   "source": [
    "filename = \"Custom2_coordinate_30steps-May-26-2021-12-18-39-PM/ckpt/\"\n",
    "checkpoint_file = os.path.join(model_dir, filename)\n",
    "\n",
    "ckpt = tf.train.Checkpoint(step=tf.Variable(1), net=agent)\n",
    "manager = tf.train.CheckpointManager(ckpt, checkpoint_file, max_to_keep=3)\n",
    "ckpt.restore(manager.latest_checkpoint)"
   ]
  },
  {
   "cell_type": "markdown",
   "metadata": {},
   "source": [
    "# Fill replay buffer with random prefectly explored data"
   ]
  },
  {
   "cell_type": "code",
   "execution_count": null,
   "metadata": {},
   "outputs": [],
   "source": [
    "from sgm.envs import *\n",
    "\n",
    "#@title Fill the replay buffer with random data  {vertical-output: true, run: \"auto\" }\n",
    "replay_buffer_size = 2000 #@param {min:100, max: 1000, step: 100, type:\"slider\"}\n",
    "\n",
    "eval_tf_env.pyenv.envs[0].gym.set_sample_goal_args(\n",
    "    prob_constraint=0.0,\n",
    "    min_dist=0,\n",
    "    max_dist=10)\n",
    "rb_vec = []\n",
    "for it in range(replay_buffer_size):\n",
    "    ts = eval_tf_env.reset()\n",
    "    rb_vec.append(ts.observation['observation'].numpy()[0])\n",
    "rb_vec = np.array(rb_vec)"
   ]
  },
  {
   "cell_type": "code",
   "execution_count": null,
   "metadata": {
    "scrolled": true
   },
   "outputs": [],
   "source": [
    "plt.figure(figsize=(6, 6))\n",
    "plt.scatter(*rb_vec.T)\n",
    "plot_walls(eval_tf_env.pyenv.envs[0].env.walls)\n",
    "plt.show()"
   ]
  },
  {
   "cell_type": "markdown",
   "metadata": {},
   "source": [
    "# Calculate qvalue distances"
   ]
  },
  {
   "cell_type": "code",
   "execution_count": null,
   "metadata": {},
   "outputs": [],
   "source": [
    "pdist = agent._get_pairwise_dist(rb_vec, aggregate=None).numpy()"
   ]
  },
  {
   "cell_type": "code",
   "execution_count": null,
   "metadata": {},
   "outputs": [],
   "source": [
    "plt.figure(figsize=(6, 3))\n",
    "plt.hist(pdist.flatten(), bins=range(20))\n",
    "plt.xlabel('predicted distance')\n",
    "plt.ylabel('number of (s, g) pairs')\n",
    "plt.show()"
   ]
  },
  {
   "cell_type": "markdown",
   "metadata": {},
   "source": [
    "# Tune edge cutoff"
   ]
  },
  {
   "cell_type": "code",
   "execution_count": null,
   "metadata": {
    "scrolled": true
   },
   "outputs": [],
   "source": [
    "from sgm.planner import SGMSearchPolicy\n",
    "search_policy_type = \"SGM\"\n",
    "agent.initialize_search(rb_vec, max_search_steps=30) # needed to set agent attributes that SGMSearchPolicy constructor queries\n",
    "search_policy = SGMSearchPolicy(agent, pdist, rb_vec, rb_vec, cache_pdist = True)\n",
    "agent.initialize_search(search_policy.rb_vec, max_search_steps=30)\n",
    "\n",
    "from sgm.utils.visualization import *\n",
    "plot_graph(search_policy._g.copy(), search_policy.rb_vec, eval_tf_env)"
   ]
  },
  {
   "cell_type": "code",
   "execution_count": null,
   "metadata": {},
   "outputs": [],
   "source": [
    "search_policy.keep_k_nearest(5)\n",
    "plot_graph(search_policy._g.copy(), search_policy.rb_vec, eval_tf_env)"
   ]
  },
  {
   "cell_type": "code",
   "execution_count": null,
   "metadata": {},
   "outputs": [],
   "source": [
    "search_policy.keep_k_nearest(4)\n",
    "plot_graph(search_policy._g.copy(), search_policy.rb_vec, eval_tf_env)"
   ]
  },
  {
   "cell_type": "code",
   "execution_count": null,
   "metadata": {},
   "outputs": [],
   "source": [
    "search_policy.keep_k_nearest(3)\n",
    "plot_graph(search_policy._g.copy(), search_policy.rb_vec, eval_tf_env)"
   ]
  },
  {
   "cell_type": "code",
   "execution_count": null,
   "metadata": {},
   "outputs": [],
   "source": [
    "search_policy.keep_k_nearest(2)\n",
    "plot_graph(search_policy._g.copy(), search_policy.rb_vec, eval_tf_env)"
   ]
  },
  {
   "cell_type": "code",
   "execution_count": null,
   "metadata": {},
   "outputs": [],
   "source": [
    "search_policy.keep_k_nearest(1)\n",
    "plot_graph(search_policy._g.copy(), search_policy.rb_vec, eval_tf_env)"
   ]
  },
  {
   "cell_type": "markdown",
   "metadata": {},
   "source": [
    "# Calculate Euclidean distances"
   ]
  },
  {
   "cell_type": "code",
   "execution_count": null,
   "metadata": {},
   "outputs": [],
   "source": [
    "from scipy.spatial import distance\n",
    "euclidean_dists = distance.pdist(rb_vec)\n",
    "\n",
    "plt.figure(figsize=(6, 3))\n",
    "plt.hist(euclidean_dists.flatten())\n",
    "plt.xlabel('Euclidean distance')\n",
    "plt.ylabel('number of pairwise distances')\n",
    "plt.show()"
   ]
  },
  {
   "cell_type": "markdown",
   "metadata": {},
   "source": [
    "# Initialize SGM search policy"
   ]
  },
  {
   "cell_type": "code",
   "execution_count": null,
   "metadata": {},
   "outputs": [],
   "source": [
    "from sgm.planner import SGMSearchPolicy\n",
    "search_policy_type = \"SGM\"\n",
    "agent.initialize_search(rb_vec, max_search_steps=30) # needed to set agent attributes that SGMSearchPolicy constructor queries\n",
    "search_policy = SGMSearchPolicy(agent, pdist, rb_vec, rb_vec, cache_pdist = True)\n",
    "agent.initialize_search(search_policy.rb_vec, max_search_steps=30)"
   ]
  },
  {
   "cell_type": "markdown",
   "metadata": {},
   "source": [
    "# Cleanup and evaluate SGM"
   ]
  },
  {
   "cell_type": "code",
   "execution_count": null,
   "metadata": {},
   "outputs": [],
   "source": [
    "from sgm.evaluation import cleanup_and_eval\n",
    "\n",
    "logdir = os.path.join(os.getcwd(), os.pardir, \"logs\")\n",
    "eval_difficulty = 0.95\n",
    "k_nearest = 5\n",
    "eval_trials = 20\n",
    "total_cleanup_steps = 50000\n",
    "eval_period = 5000\n",
    "\n",
    "logfolder = cleanup_and_eval(search_policy,\n",
    "                             search_policy_type,\n",
    "                             desc_name,\n",
    "                             eval_tf_env,\n",
    "                             logdir,\n",
    "                             eval_difficulty=eval_difficulty,\n",
    "                             k_nearest=k_nearest,\n",
    "                             eval_trials=eval_trials,\n",
    "                             total_cleanup_steps=total_cleanup_steps,\n",
    "                             eval_period=eval_period)"
   ]
  },
  {
   "cell_type": "markdown",
   "metadata": {},
   "source": [
    "# Load cleanup graphs"
   ]
  },
  {
   "cell_type": "code",
   "execution_count": null,
   "metadata": {},
   "outputs": [],
   "source": [
    "from sgm.utils.visualization import *\n",
    "\n",
    "search_policy.load(os.path.join(logfolder, search_policy_type.lower().replace(\" \", \"_\") + \"_initial\"))\n",
    "initial_graph = search_policy._g.copy()\n",
    "\n",
    "search_policy.load(os.path.join(logfolder, search_policy_type.lower().replace(\" \", \"_\") + \"_filtered_0_cleanup_steps/\"))\n",
    "filtered_graph = search_policy._g.copy()\n",
    "\n",
    "search_policy.load(os.path.join(logfolder, search_policy_type.lower().replace(\" \", \"_\") + \"_filtered_{}_cleanup_steps/\".format(total_cleanup_steps)))\n",
    "cleaned_graph = search_policy._g.copy()\n",
    "\n",
    "pruned_graph = nx.difference(filtered_graph, cleaned_graph)"
   ]
  },
  {
   "cell_type": "markdown",
   "metadata": {},
   "source": [
    "# Visualize cleanup graphs"
   ]
  },
  {
   "cell_type": "code",
   "execution_count": null,
   "metadata": {},
   "outputs": [],
   "source": [
    "plot_points(search_policy.rb_vec, eval_tf_env)"
   ]
  },
  {
   "cell_type": "code",
   "execution_count": null,
   "metadata": {},
   "outputs": [],
   "source": [
    "plot_graph(initial_graph, search_policy.rb_vec, eval_tf_env)"
   ]
  },
  {
   "cell_type": "code",
   "execution_count": null,
   "metadata": {},
   "outputs": [],
   "source": [
    "plot_graph(filtered_graph, search_policy.rb_vec, eval_tf_env)"
   ]
  },
  {
   "cell_type": "code",
   "execution_count": null,
   "metadata": {},
   "outputs": [],
   "source": [
    "plot_graph(cleaned_graph, search_policy.rb_vec, eval_tf_env)"
   ]
  },
  {
   "cell_type": "code",
   "execution_count": null,
   "metadata": {},
   "outputs": [],
   "source": [
    "plot_graph(pruned_graph, search_policy.rb_vec, eval_tf_env)"
   ]
  }
 ],
 "metadata": {
  "kernelspec": {
   "display_name": "Python (sgm)",
   "language": "python",
   "name": "myenv"
  },
  "language_info": {
   "codemirror_mode": {
    "name": "ipython",
    "version": 3
   },
   "file_extension": ".py",
   "mimetype": "text/x-python",
   "name": "python",
   "nbconvert_exporter": "python",
   "pygments_lexer": "ipython3",
   "version": "3.6.13"
  },
  "pycharm": {
   "stem_cell": {
    "cell_type": "raw",
    "metadata": {
     "collapsed": false
    },
    "source": []
   }
  },
  "widgets": {
   "application/vnd.jupyter.widget-state+json": {
    "state": {
     "242ef020de0a44eaac31cf4d135c90d4": {
      "model_module": "@jupyter-widgets/controls",
      "model_module_version": "1.5.0",
      "model_name": "DescriptionStyleModel",
      "state": {
       "_model_module": "@jupyter-widgets/controls",
       "_model_module_version": "1.5.0",
       "_model_name": "DescriptionStyleModel",
       "_view_count": null,
       "_view_module": "@jupyter-widgets/base",
       "_view_module_version": "1.2.0",
       "_view_name": "StyleView",
       "description_width": ""
      }
     },
     "2d70f0026f8f4e278fa3a159797002d8": {
      "model_module": "@jupyter-widgets/controls",
      "model_module_version": "1.5.0",
      "model_name": "HBoxModel",
      "state": {
       "_dom_classes": [],
       "_model_module": "@jupyter-widgets/controls",
       "_model_module_version": "1.5.0",
       "_model_name": "HBoxModel",
       "_view_count": null,
       "_view_module": "@jupyter-widgets/controls",
       "_view_module_version": "1.5.0",
       "_view_name": "HBoxView",
       "box_style": "",
       "children": [
        "IPY_MODEL_a7c64072e691493d87fd8bf5681e36fb",
        "IPY_MODEL_4b48e4c866fd4badbf431b8e1b6ec0bf"
       ],
       "layout": "IPY_MODEL_d5d7e34d892b4631969e30bae6fb9c2f"
      }
     },
     "371887af4de7452796884cc8fe7e4cba": {
      "model_module": "@jupyter-widgets/controls",
      "model_module_version": "1.5.0",
      "model_name": "IntProgressModel",
      "state": {
       "_dom_classes": [],
       "_model_module": "@jupyter-widgets/controls",
       "_model_module_version": "1.5.0",
       "_model_name": "IntProgressModel",
       "_view_count": null,
       "_view_module": "@jupyter-widgets/controls",
       "_view_module_version": "1.5.0",
       "_view_name": "ProgressView",
       "bar_style": "success",
       "description": "critic 3 / 3: 100%",
       "description_tooltip": null,
       "layout": "IPY_MODEL_fd8dcc5c3c704f418ca4c469c667f3f1",
       "max": 5000,
       "min": 0,
       "orientation": "horizontal",
       "style": "IPY_MODEL_f636c83d3d574a09bb315f85a7a4f9f5",
       "value": 5000
      }
     },
     "4b48e4c866fd4badbf431b8e1b6ec0bf": {
      "model_module": "@jupyter-widgets/controls",
      "model_module_version": "1.5.0",
      "model_name": "HTMLModel",
      "state": {
       "_dom_classes": [],
       "_model_module": "@jupyter-widgets/controls",
       "_model_module_version": "1.5.0",
       "_model_name": "HTMLModel",
       "_view_count": null,
       "_view_module": "@jupyter-widgets/controls",
       "_view_module_version": "1.5.0",
       "_view_name": "HTMLView",
       "description": "",
       "description_tooltip": null,
       "layout": "IPY_MODEL_e68359c9e3d74ba29fb345761f30572c",
       "placeholder": "​",
       "style": "IPY_MODEL_c765c0f3228845e3be4631c1c031dd20",
       "value": " 5000/5000 [00:26&lt;00:00, 188.95it/s]"
      }
     },
     "4c2fcbea5aa040ce8ab3e7187d805d06": {
      "model_module": "@jupyter-widgets/controls",
      "model_module_version": "1.5.0",
      "model_name": "ProgressStyleModel",
      "state": {
       "_model_module": "@jupyter-widgets/controls",
       "_model_module_version": "1.5.0",
       "_model_name": "ProgressStyleModel",
       "_view_count": null,
       "_view_module": "@jupyter-widgets/base",
       "_view_module_version": "1.2.0",
       "_view_name": "StyleView",
       "bar_color": null,
       "description_width": "initial"
      }
     },
     "5ef1dea62a3a4b18b36a107e7f259b98": {
      "model_module": "@jupyter-widgets/base",
      "model_module_version": "1.2.0",
      "model_name": "LayoutModel",
      "state": {
       "_model_module": "@jupyter-widgets/base",
       "_model_module_version": "1.2.0",
       "_model_name": "LayoutModel",
       "_view_count": null,
       "_view_module": "@jupyter-widgets/base",
       "_view_module_version": "1.2.0",
       "_view_name": "LayoutView",
       "align_content": null,
       "align_items": null,
       "align_self": null,
       "border": null,
       "bottom": null,
       "display": null,
       "flex": null,
       "flex_flow": null,
       "grid_area": null,
       "grid_auto_columns": null,
       "grid_auto_flow": null,
       "grid_auto_rows": null,
       "grid_column": null,
       "grid_gap": null,
       "grid_row": null,
       "grid_template_areas": null,
       "grid_template_columns": null,
       "grid_template_rows": null,
       "height": null,
       "justify_content": null,
       "justify_items": null,
       "left": null,
       "margin": null,
       "max_height": null,
       "max_width": null,
       "min_height": null,
       "min_width": null,
       "object_fit": null,
       "object_position": null,
       "order": null,
       "overflow": null,
       "overflow_x": null,
       "overflow_y": null,
       "padding": null,
       "right": null,
       "top": null,
       "visibility": null,
       "width": null
      }
     },
     "6ff42c835fea4cfead3024af8e5ed33d": {
      "model_module": "@jupyter-widgets/base",
      "model_module_version": "1.2.0",
      "model_name": "LayoutModel",
      "state": {
       "_model_module": "@jupyter-widgets/base",
       "_model_module_version": "1.2.0",
       "_model_name": "LayoutModel",
       "_view_count": null,
       "_view_module": "@jupyter-widgets/base",
       "_view_module_version": "1.2.0",
       "_view_name": "LayoutView",
       "align_content": null,
       "align_items": null,
       "align_self": null,
       "border": null,
       "bottom": null,
       "display": null,
       "flex": null,
       "flex_flow": null,
       "grid_area": null,
       "grid_auto_columns": null,
       "grid_auto_flow": null,
       "grid_auto_rows": null,
       "grid_column": null,
       "grid_gap": null,
       "grid_row": null,
       "grid_template_areas": null,
       "grid_template_columns": null,
       "grid_template_rows": null,
       "height": null,
       "justify_content": null,
       "justify_items": null,
       "left": null,
       "margin": null,
       "max_height": null,
       "max_width": null,
       "min_height": null,
       "min_width": null,
       "object_fit": null,
       "object_position": null,
       "order": null,
       "overflow": null,
       "overflow_x": null,
       "overflow_y": null,
       "padding": null,
       "right": null,
       "top": null,
       "visibility": null,
       "width": null
      }
     },
     "7bab53c1574546a59604a0e4b23dd379": {
      "model_module": "@jupyter-widgets/base",
      "model_module_version": "1.2.0",
      "model_name": "LayoutModel",
      "state": {
       "_model_module": "@jupyter-widgets/base",
       "_model_module_version": "1.2.0",
       "_model_name": "LayoutModel",
       "_view_count": null,
       "_view_module": "@jupyter-widgets/base",
       "_view_module_version": "1.2.0",
       "_view_name": "LayoutView",
       "align_content": null,
       "align_items": null,
       "align_self": null,
       "border": null,
       "bottom": null,
       "display": null,
       "flex": null,
       "flex_flow": null,
       "grid_area": null,
       "grid_auto_columns": null,
       "grid_auto_flow": null,
       "grid_auto_rows": null,
       "grid_column": null,
       "grid_gap": null,
       "grid_row": null,
       "grid_template_areas": null,
       "grid_template_columns": null,
       "grid_template_rows": null,
       "height": null,
       "justify_content": null,
       "justify_items": null,
       "left": null,
       "margin": null,
       "max_height": null,
       "max_width": null,
       "min_height": null,
       "min_width": null,
       "object_fit": null,
       "object_position": null,
       "order": null,
       "overflow": null,
       "overflow_x": null,
       "overflow_y": null,
       "padding": null,
       "right": null,
       "top": null,
       "visibility": null,
       "width": null
      }
     },
     "9107b2bf9c4849d0951b0300acef13c6": {
      "model_module": "@jupyter-widgets/controls",
      "model_module_version": "1.5.0",
      "model_name": "IntProgressModel",
      "state": {
       "_dom_classes": [],
       "_model_module": "@jupyter-widgets/controls",
       "_model_module_version": "1.5.0",
       "_model_name": "IntProgressModel",
       "_view_count": null,
       "_view_module": "@jupyter-widgets/controls",
       "_view_module_version": "1.5.0",
       "_view_name": "ProgressView",
       "bar_style": "success",
       "description": "critic 2 / 3: 100%",
       "description_tooltip": null,
       "layout": "IPY_MODEL_5ef1dea62a3a4b18b36a107e7f259b98",
       "max": 5000,
       "min": 0,
       "orientation": "horizontal",
       "style": "IPY_MODEL_4c2fcbea5aa040ce8ab3e7187d805d06",
       "value": 5000
      }
     },
     "a21654931ea944adb107405d3ee52b66": {
      "model_module": "@jupyter-widgets/controls",
      "model_module_version": "1.5.0",
      "model_name": "HBoxModel",
      "state": {
       "_dom_classes": [],
       "_model_module": "@jupyter-widgets/controls",
       "_model_module_version": "1.5.0",
       "_model_name": "HBoxModel",
       "_view_count": null,
       "_view_module": "@jupyter-widgets/controls",
       "_view_module_version": "1.5.0",
       "_view_name": "HBoxView",
       "box_style": "",
       "children": [
        "IPY_MODEL_9107b2bf9c4849d0951b0300acef13c6",
        "IPY_MODEL_afb29b788f884c2ea7fced22a46fe5d1"
       ],
       "layout": "IPY_MODEL_7bab53c1574546a59604a0e4b23dd379"
      }
     },
     "a7c64072e691493d87fd8bf5681e36fb": {
      "model_module": "@jupyter-widgets/controls",
      "model_module_version": "1.5.0",
      "model_name": "IntProgressModel",
      "state": {
       "_dom_classes": [],
       "_model_module": "@jupyter-widgets/controls",
       "_model_module_version": "1.5.0",
       "_model_name": "IntProgressModel",
       "_view_count": null,
       "_view_module": "@jupyter-widgets/controls",
       "_view_module_version": "1.5.0",
       "_view_name": "ProgressView",
       "bar_style": "success",
       "description": "critic 1 / 3: 100%",
       "description_tooltip": null,
       "layout": "IPY_MODEL_b2e6abcf8a1c4dfd9ba07b83277fac61",
       "max": 5000,
       "min": 0,
       "orientation": "horizontal",
       "style": "IPY_MODEL_eb78b9ddca6e4df393c65c89a8892b06",
       "value": 5000
      }
     },
     "afb29b788f884c2ea7fced22a46fe5d1": {
      "model_module": "@jupyter-widgets/controls",
      "model_module_version": "1.5.0",
      "model_name": "HTMLModel",
      "state": {
       "_dom_classes": [],
       "_model_module": "@jupyter-widgets/controls",
       "_model_module_version": "1.5.0",
       "_model_name": "HTMLModel",
       "_view_count": null,
       "_view_module": "@jupyter-widgets/controls",
       "_view_module_version": "1.5.0",
       "_view_name": "HTMLView",
       "description": "",
       "description_tooltip": null,
       "layout": "IPY_MODEL_e2f70b9eac0944768bb4beaca1966da5",
       "placeholder": "​",
       "style": "IPY_MODEL_b839c0b8ab834f0f90eb77397dceb468",
       "value": " 5000/5000 [00:32&lt;00:00, 154.89it/s]"
      }
     },
     "b2e6abcf8a1c4dfd9ba07b83277fac61": {
      "model_module": "@jupyter-widgets/base",
      "model_module_version": "1.2.0",
      "model_name": "LayoutModel",
      "state": {
       "_model_module": "@jupyter-widgets/base",
       "_model_module_version": "1.2.0",
       "_model_name": "LayoutModel",
       "_view_count": null,
       "_view_module": "@jupyter-widgets/base",
       "_view_module_version": "1.2.0",
       "_view_name": "LayoutView",
       "align_content": null,
       "align_items": null,
       "align_self": null,
       "border": null,
       "bottom": null,
       "display": null,
       "flex": null,
       "flex_flow": null,
       "grid_area": null,
       "grid_auto_columns": null,
       "grid_auto_flow": null,
       "grid_auto_rows": null,
       "grid_column": null,
       "grid_gap": null,
       "grid_row": null,
       "grid_template_areas": null,
       "grid_template_columns": null,
       "grid_template_rows": null,
       "height": null,
       "justify_content": null,
       "justify_items": null,
       "left": null,
       "margin": null,
       "max_height": null,
       "max_width": null,
       "min_height": null,
       "min_width": null,
       "object_fit": null,
       "object_position": null,
       "order": null,
       "overflow": null,
       "overflow_x": null,
       "overflow_y": null,
       "padding": null,
       "right": null,
       "top": null,
       "visibility": null,
       "width": null
      }
     },
     "b839c0b8ab834f0f90eb77397dceb468": {
      "model_module": "@jupyter-widgets/controls",
      "model_module_version": "1.5.0",
      "model_name": "DescriptionStyleModel",
      "state": {
       "_model_module": "@jupyter-widgets/controls",
       "_model_module_version": "1.5.0",
       "_model_name": "DescriptionStyleModel",
       "_view_count": null,
       "_view_module": "@jupyter-widgets/base",
       "_view_module_version": "1.2.0",
       "_view_name": "StyleView",
       "description_width": ""
      }
     },
     "c6fa371f68994d3d9e8bdc357eca1563": {
      "model_module": "@jupyter-widgets/controls",
      "model_module_version": "1.5.0",
      "model_name": "HTMLModel",
      "state": {
       "_dom_classes": [],
       "_model_module": "@jupyter-widgets/controls",
       "_model_module_version": "1.5.0",
       "_model_name": "HTMLModel",
       "_view_count": null,
       "_view_module": "@jupyter-widgets/controls",
       "_view_module_version": "1.5.0",
       "_view_name": "HTMLView",
       "description": "",
       "description_tooltip": null,
       "layout": "IPY_MODEL_fa91a718ec304806b413781669ff0290",
       "placeholder": "​",
       "style": "IPY_MODEL_242ef020de0a44eaac31cf4d135c90d4",
       "value": " 5000/5000 [08:57&lt;00:00,  9.30it/s]"
      }
     },
     "c765c0f3228845e3be4631c1c031dd20": {
      "model_module": "@jupyter-widgets/controls",
      "model_module_version": "1.5.0",
      "model_name": "DescriptionStyleModel",
      "state": {
       "_model_module": "@jupyter-widgets/controls",
       "_model_module_version": "1.5.0",
       "_model_name": "DescriptionStyleModel",
       "_view_count": null,
       "_view_module": "@jupyter-widgets/base",
       "_view_module_version": "1.2.0",
       "_view_name": "StyleView",
       "description_width": ""
      }
     },
     "d5d7e34d892b4631969e30bae6fb9c2f": {
      "model_module": "@jupyter-widgets/base",
      "model_module_version": "1.2.0",
      "model_name": "LayoutModel",
      "state": {
       "_model_module": "@jupyter-widgets/base",
       "_model_module_version": "1.2.0",
       "_model_name": "LayoutModel",
       "_view_count": null,
       "_view_module": "@jupyter-widgets/base",
       "_view_module_version": "1.2.0",
       "_view_name": "LayoutView",
       "align_content": null,
       "align_items": null,
       "align_self": null,
       "border": null,
       "bottom": null,
       "display": null,
       "flex": null,
       "flex_flow": null,
       "grid_area": null,
       "grid_auto_columns": null,
       "grid_auto_flow": null,
       "grid_auto_rows": null,
       "grid_column": null,
       "grid_gap": null,
       "grid_row": null,
       "grid_template_areas": null,
       "grid_template_columns": null,
       "grid_template_rows": null,
       "height": null,
       "justify_content": null,
       "justify_items": null,
       "left": null,
       "margin": null,
       "max_height": null,
       "max_width": null,
       "min_height": null,
       "min_width": null,
       "object_fit": null,
       "object_position": null,
       "order": null,
       "overflow": null,
       "overflow_x": null,
       "overflow_y": null,
       "padding": null,
       "right": null,
       "top": null,
       "visibility": null,
       "width": null
      }
     },
     "e2f70b9eac0944768bb4beaca1966da5": {
      "model_module": "@jupyter-widgets/base",
      "model_module_version": "1.2.0",
      "model_name": "LayoutModel",
      "state": {
       "_model_module": "@jupyter-widgets/base",
       "_model_module_version": "1.2.0",
       "_model_name": "LayoutModel",
       "_view_count": null,
       "_view_module": "@jupyter-widgets/base",
       "_view_module_version": "1.2.0",
       "_view_name": "LayoutView",
       "align_content": null,
       "align_items": null,
       "align_self": null,
       "border": null,
       "bottom": null,
       "display": null,
       "flex": null,
       "flex_flow": null,
       "grid_area": null,
       "grid_auto_columns": null,
       "grid_auto_flow": null,
       "grid_auto_rows": null,
       "grid_column": null,
       "grid_gap": null,
       "grid_row": null,
       "grid_template_areas": null,
       "grid_template_columns": null,
       "grid_template_rows": null,
       "height": null,
       "justify_content": null,
       "justify_items": null,
       "left": null,
       "margin": null,
       "max_height": null,
       "max_width": null,
       "min_height": null,
       "min_width": null,
       "object_fit": null,
       "object_position": null,
       "order": null,
       "overflow": null,
       "overflow_x": null,
       "overflow_y": null,
       "padding": null,
       "right": null,
       "top": null,
       "visibility": null,
       "width": null
      }
     },
     "e42ca76c570a43c49dc60f17ddb3b130": {
      "model_module": "@jupyter-widgets/controls",
      "model_module_version": "1.5.0",
      "model_name": "HBoxModel",
      "state": {
       "_dom_classes": [],
       "_model_module": "@jupyter-widgets/controls",
       "_model_module_version": "1.5.0",
       "_model_name": "HBoxModel",
       "_view_count": null,
       "_view_module": "@jupyter-widgets/controls",
       "_view_module_version": "1.5.0",
       "_view_name": "HBoxView",
       "box_style": "",
       "children": [
        "IPY_MODEL_371887af4de7452796884cc8fe7e4cba",
        "IPY_MODEL_c6fa371f68994d3d9e8bdc357eca1563"
       ],
       "layout": "IPY_MODEL_6ff42c835fea4cfead3024af8e5ed33d"
      }
     },
     "e68359c9e3d74ba29fb345761f30572c": {
      "model_module": "@jupyter-widgets/base",
      "model_module_version": "1.2.0",
      "model_name": "LayoutModel",
      "state": {
       "_model_module": "@jupyter-widgets/base",
       "_model_module_version": "1.2.0",
       "_model_name": "LayoutModel",
       "_view_count": null,
       "_view_module": "@jupyter-widgets/base",
       "_view_module_version": "1.2.0",
       "_view_name": "LayoutView",
       "align_content": null,
       "align_items": null,
       "align_self": null,
       "border": null,
       "bottom": null,
       "display": null,
       "flex": null,
       "flex_flow": null,
       "grid_area": null,
       "grid_auto_columns": null,
       "grid_auto_flow": null,
       "grid_auto_rows": null,
       "grid_column": null,
       "grid_gap": null,
       "grid_row": null,
       "grid_template_areas": null,
       "grid_template_columns": null,
       "grid_template_rows": null,
       "height": null,
       "justify_content": null,
       "justify_items": null,
       "left": null,
       "margin": null,
       "max_height": null,
       "max_width": null,
       "min_height": null,
       "min_width": null,
       "object_fit": null,
       "object_position": null,
       "order": null,
       "overflow": null,
       "overflow_x": null,
       "overflow_y": null,
       "padding": null,
       "right": null,
       "top": null,
       "visibility": null,
       "width": null
      }
     },
     "eb78b9ddca6e4df393c65c89a8892b06": {
      "model_module": "@jupyter-widgets/controls",
      "model_module_version": "1.5.0",
      "model_name": "ProgressStyleModel",
      "state": {
       "_model_module": "@jupyter-widgets/controls",
       "_model_module_version": "1.5.0",
       "_model_name": "ProgressStyleModel",
       "_view_count": null,
       "_view_module": "@jupyter-widgets/base",
       "_view_module_version": "1.2.0",
       "_view_name": "StyleView",
       "bar_color": null,
       "description_width": "initial"
      }
     },
     "f636c83d3d574a09bb315f85a7a4f9f5": {
      "model_module": "@jupyter-widgets/controls",
      "model_module_version": "1.5.0",
      "model_name": "ProgressStyleModel",
      "state": {
       "_model_module": "@jupyter-widgets/controls",
       "_model_module_version": "1.5.0",
       "_model_name": "ProgressStyleModel",
       "_view_count": null,
       "_view_module": "@jupyter-widgets/base",
       "_view_module_version": "1.2.0",
       "_view_name": "StyleView",
       "bar_color": null,
       "description_width": "initial"
      }
     },
     "fa91a718ec304806b413781669ff0290": {
      "model_module": "@jupyter-widgets/base",
      "model_module_version": "1.2.0",
      "model_name": "LayoutModel",
      "state": {
       "_model_module": "@jupyter-widgets/base",
       "_model_module_version": "1.2.0",
       "_model_name": "LayoutModel",
       "_view_count": null,
       "_view_module": "@jupyter-widgets/base",
       "_view_module_version": "1.2.0",
       "_view_name": "LayoutView",
       "align_content": null,
       "align_items": null,
       "align_self": null,
       "border": null,
       "bottom": null,
       "display": null,
       "flex": null,
       "flex_flow": null,
       "grid_area": null,
       "grid_auto_columns": null,
       "grid_auto_flow": null,
       "grid_auto_rows": null,
       "grid_column": null,
       "grid_gap": null,
       "grid_row": null,
       "grid_template_areas": null,
       "grid_template_columns": null,
       "grid_template_rows": null,
       "height": null,
       "justify_content": null,
       "justify_items": null,
       "left": null,
       "margin": null,
       "max_height": null,
       "max_width": null,
       "min_height": null,
       "min_width": null,
       "object_fit": null,
       "object_position": null,
       "order": null,
       "overflow": null,
       "overflow_x": null,
       "overflow_y": null,
       "padding": null,
       "right": null,
       "top": null,
       "visibility": null,
       "width": null
      }
     },
     "fd8dcc5c3c704f418ca4c469c667f3f1": {
      "model_module": "@jupyter-widgets/base",
      "model_module_version": "1.2.0",
      "model_name": "LayoutModel",
      "state": {
       "_model_module": "@jupyter-widgets/base",
       "_model_module_version": "1.2.0",
       "_model_name": "LayoutModel",
       "_view_count": null,
       "_view_module": "@jupyter-widgets/base",
       "_view_module_version": "1.2.0",
       "_view_name": "LayoutView",
       "align_content": null,
       "align_items": null,
       "align_self": null,
       "border": null,
       "bottom": null,
       "display": null,
       "flex": null,
       "flex_flow": null,
       "grid_area": null,
       "grid_auto_columns": null,
       "grid_auto_flow": null,
       "grid_auto_rows": null,
       "grid_column": null,
       "grid_gap": null,
       "grid_row": null,
       "grid_template_areas": null,
       "grid_template_columns": null,
       "grid_template_rows": null,
       "height": null,
       "justify_content": null,
       "justify_items": null,
       "left": null,
       "margin": null,
       "max_height": null,
       "max_width": null,
       "min_height": null,
       "min_width": null,
       "object_fit": null,
       "object_position": null,
       "order": null,
       "overflow": null,
       "overflow_x": null,
       "overflow_y": null,
       "padding": null,
       "right": null,
       "top": null,
       "visibility": null,
       "width": null
      }
     }
    },
    "version_major": 2,
    "version_minor": 0
   }
  }
 },
 "nbformat": 4,
 "nbformat_minor": 4
}
