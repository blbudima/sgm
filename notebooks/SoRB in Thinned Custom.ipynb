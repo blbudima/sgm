{
 "cells": [
  {
   "cell_type": "markdown",
   "metadata": {},
   "source": [
    "# Import dependencies"
   ]
  },
  {
   "cell_type": "code",
   "execution_count": 18,
   "metadata": {},
   "outputs": [
    {
     "name": "stdout",
     "output_type": "stream",
     "text": [
      "The autoreload extension is already loaded. To reload it, use:\n",
      "  %reload_ext autoreload\n"
     ]
    }
   ],
   "source": [
    "# Reload modules whenever underlying code changes\n",
    "%load_ext autoreload\n",
    "%autoreload 2"
   ]
  },
  {
   "cell_type": "code",
   "execution_count": 19,
   "metadata": {},
   "outputs": [],
   "source": [
    "# pdb will automatically run on exceptions\n",
    "#%pdb on # currently not working due to https://github.com/ipython/ipykernel/issues/422"
   ]
  },
  {
   "cell_type": "code",
   "execution_count": 20,
   "metadata": {
    "pycharm": {
     "name": "#%%\n"
    }
   },
   "outputs": [],
   "source": [
    "# import os\n",
    "\n",
    "# # Only occupy one GPU, as in https://stackoverflow.com/questions/37893755/tensorflow-set-cuda-visible-devices-within-jupyter\n",
    "# os.environ[\"CUDA_DEVICE_ORDER\"]=\"PCI_BUS_ID\"   # see issue #152\n",
    "# os.environ[\"CUDA_VISIBLE_DEVICES\"]=\"0\"\n",
    "\n",
    "# # Only allocate GPU memory as needed\n",
    "# os.environ[\"TF_FORCE_GPU_ALLOW_GROWTH\"]=\"true\"\n",
    "\n",
    "# # Suppress tf warning messages\n",
    "# os.environ[\"TF_CPP_MIN_LOG_LEVEL\"]=\"3\""
   ]
  },
  {
   "cell_type": "code",
   "execution_count": 21,
   "metadata": {},
   "outputs": [],
   "source": [
    "%matplotlib inline\n",
    "from sgm.dependencies import *"
   ]
  },
  {
   "cell_type": "markdown",
   "metadata": {},
   "source": [
    "# Initialize untrained agent"
   ]
  },
  {
   "cell_type": "code",
   "execution_count": 22,
   "metadata": {},
   "outputs": [],
   "source": [
    "# config = tf.ConfigProto()\n",
    "# config.gpu_options.allow_growth = True\n",
    "# tf.enable_eager_execution(config=config)"
   ]
  },
  {
   "cell_type": "code",
   "execution_count": 23,
   "metadata": {},
   "outputs": [
    {
     "data": {
      "text/plain": [
       "True"
      ]
     },
     "execution_count": 23,
     "metadata": {},
     "output_type": "execute_result"
    }
   ],
   "source": [
    "#tf.debugging.set_log_device_placement(True)\n",
    "tf.test.is_gpu_available()"
   ]
  },
  {
   "cell_type": "code",
   "execution_count": 24,
   "metadata": {},
   "outputs": [],
   "source": [
    "tf.reset_default_graph()"
   ]
  },
  {
   "cell_type": "code",
   "execution_count": 25,
   "metadata": {},
   "outputs": [
    {
     "name": "stderr",
     "output_type": "stream",
     "text": [
      "/home/blbudima/miniconda3/envs/sgm/lib/python3.6/site-packages/gym/logger.py:30: UserWarning: \u001b[33mWARN: Box bound precision lowered by casting to float32\u001b[0m\n",
      "  warnings.warn(colorize('%s: %s'%('WARN', msg % args), 'yellow'))\n"
     ]
    }
   ],
   "source": [
    "from sgm.envs import env_load_fn\n",
    "from sgm.agent import UvfAgent\n",
    "\n",
    "# If you change the environment parameters below, make sure to run\n",
    "# tf.reset_default_graph() in the cell above before training.\n",
    "max_episode_steps = 18\n",
    "env_name = 'Custom'  # Choose one of the environments shown above. \n",
    "resize_factor = 5  # Inflate the environment to increase the difficulty.\n",
    "thin = True # If True, resize by expanding open space, not walls, to make walls thin\n",
    "desc_name = \"thinned_\" + env_name.lower() if thin else env_name.lower()\n",
    "\n",
    "base_dir = os.path.join(os.getcwd(), os.pardir, \"agents\")\n",
    "model_dir = os.path.join(base_dir, desc_name)\n",
    "\n",
    "tf_env = env_load_fn(env_name, max_episode_steps,\n",
    "                     resize_factor=resize_factor,\n",
    "                     terminate_on_timeout=False,\n",
    "                     thin=thin)\n",
    "eval_tf_env = env_load_fn(env_name, max_episode_steps,\n",
    "                          resize_factor=resize_factor,\n",
    "                          terminate_on_timeout=True,\n",
    "                          thin=thin)\n",
    "\n",
    "agent = UvfAgent(\n",
    "    tf_env.time_step_spec(),\n",
    "    tf_env.action_spec(),\n",
    "    max_episode_steps=max_episode_steps,\n",
    "    use_distributional_rl=True,\n",
    "    ensemble_size=3)"
   ]
  },
  {
   "cell_type": "markdown",
   "metadata": {},
   "source": [
    "# Train the agent"
   ]
  },
  {
   "cell_type": "code",
   "execution_count": 26,
   "metadata": {
    "scrolled": true
   },
   "outputs": [
    {
     "name": "stdout",
     "output_type": "stream",
     "text": [
      "INFO:tensorflow:random_seed = 0\n",
      "INFO:tensorflow:Saving checkpoints to directory /home/blbudima/sgm/notebooks/../agents/thinned_custom/Custom_coordinate_18steps-May-26-2021-04-09-39-PM/ckpt\n",
      "INFO:tensorflow:Creating tensorboard summary writer with directory /home/blbudima/sgm/notebooks/../agents/thinned_custom/Custom_coordinate_18steps-May-26-2021-04-09-39-PM\n"
     ]
    },
    {
     "name": "stderr",
     "output_type": "stream",
     "text": [
      "  3%|▎         | 993/30000 [00:16<07:49, 61.74it/s] "
     ]
    },
    {
     "name": "stdout",
     "output_type": "stream",
     "text": [
      "Saved checkpoint for step 1000: /home/blbudima/sgm/notebooks/../agents/thinned_custom/Custom_coordinate_18steps-May-26-2021-04-09-39-PM/ckpt/ckpt-1\n",
      "INFO:tensorflow:step = 1000, loss = 1.995775\n",
      "INFO:tensorflow:64.879 steps/sec\n",
      "INFO:tensorflow:step = 1000\n",
      "INFO:tensorflow:\t set goal dist = 2\n",
      "INFO:tensorflow:\t\t AverageReturn (eval distance=2.000000) -18.00\n",
      "INFO:tensorflow:\t\t predicted_dist = 14.2 (0.4)\n",
      "INFO:tensorflow:\t set goal dist = 5\n",
      "INFO:tensorflow:\t\t AverageReturn (eval distance=5.000000) -18.00\n",
      "INFO:tensorflow:\t\t predicted_dist = 14.6 (0.5)\n",
      "INFO:tensorflow:\t set goal dist = 10\n",
      "INFO:tensorflow:\t\t AverageReturn (eval distance=10.000000) -18.00\n",
      "INFO:tensorflow:\t\t predicted_dist = 14.7 (0.5)\n",
      "INFO:tensorflow:\t eval_time = 3.75\n"
     ]
    },
    {
     "name": "stderr",
     "output_type": "stream",
     "text": [
      "  7%|▋         | 1995/30000 [00:36<07:04, 66.04it/s]  "
     ]
    },
    {
     "name": "stdout",
     "output_type": "stream",
     "text": [
      "Saved checkpoint for step 2000: /home/blbudima/sgm/notebooks/../agents/thinned_custom/Custom_coordinate_18steps-May-26-2021-04-09-39-PM/ckpt/ckpt-2\n",
      "INFO:tensorflow:step = 2000, loss = 1.267702\n",
      "INFO:tensorflow:72.762 steps/sec\n",
      "INFO:tensorflow:step = 2000\n",
      "INFO:tensorflow:\t set goal dist = 2\n",
      "INFO:tensorflow:\t\t AverageReturn (eval distance=2.000000) -14.50\n",
      "INFO:tensorflow:\t\t predicted_dist = 15.2 (0.9)\n",
      "INFO:tensorflow:\t set goal dist = 5\n",
      "INFO:tensorflow:\t\t AverageReturn (eval distance=5.000000) -17.60\n",
      "INFO:tensorflow:\t\t predicted_dist = 16.0 (0.6)\n",
      "INFO:tensorflow:\t set goal dist = 10\n",
      "INFO:tensorflow:\t\t AverageReturn (eval distance=10.000000) -18.00\n",
      "INFO:tensorflow:\t\t predicted_dist = 16.1 (0.7)\n",
      "INFO:tensorflow:\t eval_time = 3.05\n"
     ]
    },
    {
     "name": "stderr",
     "output_type": "stream",
     "text": [
      " 10%|▉         | 2999/30000 [00:54<08:42, 51.63it/s]  "
     ]
    },
    {
     "name": "stdout",
     "output_type": "stream",
     "text": [
      "Saved checkpoint for step 3000: /home/blbudima/sgm/notebooks/../agents/thinned_custom/Custom_coordinate_18steps-May-26-2021-04-09-39-PM/ckpt/ckpt-3\n",
      "INFO:tensorflow:step = 3000, loss = 0.904075\n",
      "INFO:tensorflow:75.544 steps/sec\n",
      "INFO:tensorflow:step = 3000\n",
      "INFO:tensorflow:\t set goal dist = 2\n",
      "INFO:tensorflow:\t\t AverageReturn (eval distance=2.000000) -11.30\n",
      "INFO:tensorflow:\t\t predicted_dist = 15.1 (1.2)\n",
      "INFO:tensorflow:\t set goal dist = 5\n",
      "INFO:tensorflow:\t\t AverageReturn (eval distance=5.000000) -18.00\n",
      "INFO:tensorflow:\t\t predicted_dist = 15.7 (1.2)\n",
      "INFO:tensorflow:\t set goal dist = 10\n",
      "INFO:tensorflow:\t\t AverageReturn (eval distance=10.000000) -18.00\n",
      "INFO:tensorflow:\t\t predicted_dist = 16.1 (1.0)\n",
      "INFO:tensorflow:\t eval_time = 3.14\n"
     ]
    },
    {
     "name": "stderr",
     "output_type": "stream",
     "text": [
      " 13%|█▎        | 3996/30000 [01:11<06:33, 66.00it/s]  "
     ]
    },
    {
     "name": "stdout",
     "output_type": "stream",
     "text": [
      "Saved checkpoint for step 4000: /home/blbudima/sgm/notebooks/../agents/thinned_custom/Custom_coordinate_18steps-May-26-2021-04-09-39-PM/ckpt/ckpt-4\n",
      "INFO:tensorflow:step = 4000, loss = 1.056790\n",
      "INFO:tensorflow:79.043 steps/sec\n",
      "INFO:tensorflow:step = 4000\n",
      "INFO:tensorflow:\t set goal dist = 2\n",
      "INFO:tensorflow:\t\t AverageReturn (eval distance=2.000000) -13.60\n",
      "INFO:tensorflow:\t\t predicted_dist = 14.5 (1.3)\n",
      "INFO:tensorflow:\t set goal dist = 5\n",
      "INFO:tensorflow:\t\t AverageReturn (eval distance=5.000000) -16.80\n",
      "INFO:tensorflow:\t\t predicted_dist = 14.2 (1.2)\n",
      "INFO:tensorflow:\t set goal dist = 10\n",
      "INFO:tensorflow:\t\t AverageReturn (eval distance=10.000000) -17.80\n",
      "INFO:tensorflow:\t\t predicted_dist = 15.7 (0.8)\n",
      "INFO:tensorflow:\t eval_time = 3.23\n"
     ]
    },
    {
     "name": "stderr",
     "output_type": "stream",
     "text": [
      " 17%|█▋        | 4997/30000 [01:29<05:54, 70.44it/s]  "
     ]
    },
    {
     "name": "stdout",
     "output_type": "stream",
     "text": [
      "Saved checkpoint for step 5000: /home/blbudima/sgm/notebooks/../agents/thinned_custom/Custom_coordinate_18steps-May-26-2021-04-09-39-PM/ckpt/ckpt-5\n",
      "INFO:tensorflow:step = 5000, loss = 1.446478\n",
      "INFO:tensorflow:76.827 steps/sec\n",
      "INFO:tensorflow:step = 5000\n",
      "INFO:tensorflow:\t set goal dist = 2\n",
      "INFO:tensorflow:\t\t AverageReturn (eval distance=2.000000) -16.50\n",
      "INFO:tensorflow:\t\t predicted_dist = 13.7 (1.6)\n",
      "INFO:tensorflow:\t set goal dist = 5\n",
      "INFO:tensorflow:\t\t AverageReturn (eval distance=5.000000) -15.90\n",
      "INFO:tensorflow:\t\t predicted_dist = 15.2 (0.7)\n",
      "INFO:tensorflow:\t set goal dist = 10\n",
      "INFO:tensorflow:\t\t AverageReturn (eval distance=10.000000) -18.00\n",
      "INFO:tensorflow:\t\t predicted_dist = 15.8 (0.5)\n",
      "INFO:tensorflow:\t eval_time = 3.14\n"
     ]
    },
    {
     "name": "stderr",
     "output_type": "stream",
     "text": [
      " 20%|█▉        | 5996/30000 [01:47<05:55, 67.51it/s]"
     ]
    },
    {
     "name": "stdout",
     "output_type": "stream",
     "text": [
      "Saved checkpoint for step 6000: /home/blbudima/sgm/notebooks/../agents/thinned_custom/Custom_coordinate_18steps-May-26-2021-04-09-39-PM/ckpt/ckpt-6\n",
      "INFO:tensorflow:step = 6000, loss = 1.128748\n",
      "INFO:tensorflow:78.716 steps/sec\n",
      "INFO:tensorflow:step = 6000\n",
      "INFO:tensorflow:\t set goal dist = 2\n",
      "INFO:tensorflow:\t\t AverageReturn (eval distance=2.000000) -11.80\n",
      "INFO:tensorflow:\t\t predicted_dist = 14.7 (1.5)\n",
      "INFO:tensorflow:\t set goal dist = 5\n",
      "INFO:tensorflow:\t\t AverageReturn (eval distance=5.000000) -15.60\n",
      "INFO:tensorflow:\t\t predicted_dist = 15.8 (0.8)\n",
      "INFO:tensorflow:\t set goal dist = 10\n",
      "INFO:tensorflow:\t\t AverageReturn (eval distance=10.000000) -18.00\n",
      "INFO:tensorflow:\t\t predicted_dist = 16.6 (0.6)\n",
      "INFO:tensorflow:\t eval_time = 3.25\n"
     ]
    },
    {
     "name": "stderr",
     "output_type": "stream",
     "text": [
      " 23%|██▎       | 6992/30000 [02:05<05:08, 74.51it/s]"
     ]
    },
    {
     "name": "stdout",
     "output_type": "stream",
     "text": [
      "Saved checkpoint for step 7000: /home/blbudima/sgm/notebooks/../agents/thinned_custom/Custom_coordinate_18steps-May-26-2021-04-09-39-PM/ckpt/ckpt-7\n",
      "INFO:tensorflow:step = 7000, loss = 1.412718\n",
      "INFO:tensorflow:75.285 steps/sec\n",
      "INFO:tensorflow:step = 7000\n",
      "INFO:tensorflow:\t set goal dist = 2\n",
      "INFO:tensorflow:\t\t AverageReturn (eval distance=2.000000) -16.50\n",
      "INFO:tensorflow:\t\t predicted_dist = 12.1 (1.8)\n",
      "INFO:tensorflow:\t set goal dist = 5\n",
      "INFO:tensorflow:\t\t AverageReturn (eval distance=5.000000) -17.30\n",
      "INFO:tensorflow:\t\t predicted_dist = 14.5 (1.1)\n",
      "INFO:tensorflow:\t set goal dist = 10\n",
      "INFO:tensorflow:\t\t AverageReturn (eval distance=10.000000) -18.00\n",
      "INFO:tensorflow:\t\t predicted_dist = 15.8 (0.9)\n",
      "INFO:tensorflow:\t eval_time = 3.07\n"
     ]
    },
    {
     "name": "stderr",
     "output_type": "stream",
     "text": [
      " 27%|██▋       | 7999/30000 [02:23<06:56, 52.84it/s]"
     ]
    },
    {
     "name": "stdout",
     "output_type": "stream",
     "text": [
      "Saved checkpoint for step 8000: /home/blbudima/sgm/notebooks/../agents/thinned_custom/Custom_coordinate_18steps-May-26-2021-04-09-39-PM/ckpt/ckpt-8\n",
      "INFO:tensorflow:step = 8000, loss = 1.663592\n",
      "INFO:tensorflow:76.012 steps/sec\n",
      "INFO:tensorflow:step = 8000\n",
      "INFO:tensorflow:\t set goal dist = 2\n",
      "INFO:tensorflow:\t\t AverageReturn (eval distance=2.000000) -17.90\n",
      "INFO:tensorflow:\t\t predicted_dist = 13.7 (1.0)\n",
      "INFO:tensorflow:\t set goal dist = 5\n",
      "INFO:tensorflow:\t\t AverageReturn (eval distance=5.000000) -17.10\n",
      "INFO:tensorflow:\t\t predicted_dist = 14.6 (0.5)\n",
      "INFO:tensorflow:\t set goal dist = 10\n",
      "INFO:tensorflow:\t\t AverageReturn (eval distance=10.000000) -17.90\n",
      "INFO:tensorflow:\t\t predicted_dist = 15.5 (0.3)\n",
      "INFO:tensorflow:\t eval_time = 3.07\n"
     ]
    },
    {
     "name": "stderr",
     "output_type": "stream",
     "text": [
      " 30%|██▉       | 8999/30000 [02:41<08:41, 40.26it/s]"
     ]
    },
    {
     "name": "stdout",
     "output_type": "stream",
     "text": [
      "Saved checkpoint for step 9000: /home/blbudima/sgm/notebooks/../agents/thinned_custom/Custom_coordinate_18steps-May-26-2021-04-09-39-PM/ckpt/ckpt-9\n",
      "INFO:tensorflow:step = 9000, loss = 1.717716\n",
      "INFO:tensorflow:73.085 steps/sec\n",
      "INFO:tensorflow:step = 9000\n",
      "INFO:tensorflow:\t set goal dist = 2\n",
      "INFO:tensorflow:\t\t AverageReturn (eval distance=2.000000) -13.20\n",
      "INFO:tensorflow:\t\t predicted_dist = 14.0 (0.5)\n",
      "INFO:tensorflow:\t set goal dist = 5\n",
      "INFO:tensorflow:\t\t AverageReturn (eval distance=5.000000) -16.30\n",
      "INFO:tensorflow:\t\t predicted_dist = 14.1 (0.6)\n",
      "INFO:tensorflow:\t set goal dist = 10\n",
      "INFO:tensorflow:\t\t AverageReturn (eval distance=10.000000) -17.90\n",
      "INFO:tensorflow:\t\t predicted_dist = 15.6 (0.5)\n",
      "INFO:tensorflow:\t eval_time = 2.87\n"
     ]
    },
    {
     "name": "stderr",
     "output_type": "stream",
     "text": [
      " 33%|███▎      | 9995/30000 [02:59<05:08, 64.81it/s]"
     ]
    },
    {
     "name": "stdout",
     "output_type": "stream",
     "text": [
      "Saved checkpoint for step 10000: /home/blbudima/sgm/notebooks/../agents/thinned_custom/Custom_coordinate_18steps-May-26-2021-04-09-39-PM/ckpt/ckpt-10\n",
      "INFO:tensorflow:step = 10000, loss = 1.585875\n",
      "INFO:tensorflow:74.563 steps/sec\n",
      "INFO:tensorflow:step = 10000\n",
      "INFO:tensorflow:\t set goal dist = 2\n",
      "INFO:tensorflow:\t\t AverageReturn (eval distance=2.000000) -13.70\n",
      "INFO:tensorflow:\t\t predicted_dist = 12.4 (1.0)\n",
      "INFO:tensorflow:\t set goal dist = 5\n",
      "INFO:tensorflow:\t\t AverageReturn (eval distance=5.000000) -13.80\n",
      "INFO:tensorflow:\t\t predicted_dist = 14.7 (0.4)\n",
      "INFO:tensorflow:\t set goal dist = 10\n",
      "INFO:tensorflow:\t\t AverageReturn (eval distance=10.000000) -18.00\n",
      "INFO:tensorflow:\t\t predicted_dist = 15.8 (0.4)\n",
      "INFO:tensorflow:\t eval_time = 3.13\n"
     ]
    },
    {
     "name": "stderr",
     "output_type": "stream",
     "text": [
      " 37%|███▋      | 10996/30000 [03:17<04:35, 68.98it/s]"
     ]
    },
    {
     "name": "stdout",
     "output_type": "stream",
     "text": [
      "Saved checkpoint for step 11000: /home/blbudima/sgm/notebooks/../agents/thinned_custom/Custom_coordinate_18steps-May-26-2021-04-09-39-PM/ckpt/ckpt-11\n",
      "INFO:tensorflow:step = 11000, loss = 2.050228\n",
      "INFO:tensorflow:77.104 steps/sec\n",
      "INFO:tensorflow:step = 11000\n",
      "INFO:tensorflow:\t set goal dist = 2\n",
      "INFO:tensorflow:\t\t AverageReturn (eval distance=2.000000) -6.90\n",
      "INFO:tensorflow:\t\t predicted_dist = 12.0 (1.1)\n",
      "INFO:tensorflow:\t set goal dist = 5\n",
      "INFO:tensorflow:\t\t AverageReturn (eval distance=5.000000) -13.80\n",
      "INFO:tensorflow:\t\t predicted_dist = 13.8 (0.7)\n",
      "INFO:tensorflow:\t set goal dist = 10\n",
      "INFO:tensorflow:\t\t AverageReturn (eval distance=10.000000) -17.60\n",
      "INFO:tensorflow:\t\t predicted_dist = 15.0 (0.9)\n",
      "INFO:tensorflow:\t eval_time = 2.59\n"
     ]
    },
    {
     "name": "stderr",
     "output_type": "stream",
     "text": [
      " 40%|███▉      | 11994/30000 [03:34<03:56, 76.19it/s]"
     ]
    },
    {
     "name": "stdout",
     "output_type": "stream",
     "text": [
      "Saved checkpoint for step 12000: /home/blbudima/sgm/notebooks/../agents/thinned_custom/Custom_coordinate_18steps-May-26-2021-04-09-39-PM/ckpt/ckpt-12\n",
      "INFO:tensorflow:step = 12000, loss = 2.068315\n",
      "INFO:tensorflow:77.993 steps/sec\n",
      "INFO:tensorflow:step = 12000\n",
      "INFO:tensorflow:\t set goal dist = 2\n",
      "INFO:tensorflow:\t\t AverageReturn (eval distance=2.000000) -10.40\n",
      "INFO:tensorflow:\t\t predicted_dist = 11.7 (1.7)\n",
      "INFO:tensorflow:\t set goal dist = 5\n",
      "INFO:tensorflow:\t\t AverageReturn (eval distance=5.000000) -14.50\n",
      "INFO:tensorflow:\t\t predicted_dist = 13.7 (0.7)\n",
      "INFO:tensorflow:\t set goal dist = 10\n",
      "INFO:tensorflow:\t\t AverageReturn (eval distance=10.000000) -18.00\n",
      "INFO:tensorflow:\t\t predicted_dist = 14.9 (0.9)\n",
      "INFO:tensorflow:\t eval_time = 2.86\n"
     ]
    },
    {
     "name": "stderr",
     "output_type": "stream",
     "text": [
      " 43%|████▎     | 12997/30000 [03:52<03:52, 73.25it/s]"
     ]
    },
    {
     "name": "stdout",
     "output_type": "stream",
     "text": [
      "Saved checkpoint for step 13000: /home/blbudima/sgm/notebooks/../agents/thinned_custom/Custom_coordinate_18steps-May-26-2021-04-09-39-PM/ckpt/ckpt-13\n",
      "INFO:tensorflow:step = 13000, loss = 2.177824\n",
      "INFO:tensorflow:72.769 steps/sec\n",
      "INFO:tensorflow:step = 13000\n",
      "INFO:tensorflow:\t set goal dist = 2\n",
      "INFO:tensorflow:\t\t AverageReturn (eval distance=2.000000) -6.70\n",
      "INFO:tensorflow:\t\t predicted_dist = 11.1 (1.2)\n",
      "INFO:tensorflow:\t set goal dist = 5\n",
      "INFO:tensorflow:\t\t AverageReturn (eval distance=5.000000) -9.50\n",
      "INFO:tensorflow:\t\t predicted_dist = 13.0 (1.4)\n",
      "INFO:tensorflow:\t set goal dist = 10\n",
      "INFO:tensorflow:\t\t AverageReturn (eval distance=10.000000) -16.20\n",
      "INFO:tensorflow:\t\t predicted_dist = 15.0 (0.4)\n",
      "INFO:tensorflow:\t eval_time = 2.46\n"
     ]
    },
    {
     "name": "stderr",
     "output_type": "stream",
     "text": [
      " 47%|████▋     | 13993/30000 [04:09<04:04, 65.45it/s]"
     ]
    },
    {
     "name": "stdout",
     "output_type": "stream",
     "text": [
      "Saved checkpoint for step 14000: /home/blbudima/sgm/notebooks/../agents/thinned_custom/Custom_coordinate_18steps-May-26-2021-04-09-39-PM/ckpt/ckpt-14\n",
      "INFO:tensorflow:step = 14000, loss = 2.132714\n",
      "INFO:tensorflow:74.460 steps/sec\n",
      "INFO:tensorflow:step = 14000\n",
      "INFO:tensorflow:\t set goal dist = 2\n",
      "INFO:tensorflow:\t\t AverageReturn (eval distance=2.000000) -4.90\n",
      "INFO:tensorflow:\t\t predicted_dist = 11.2 (2.5)\n",
      "INFO:tensorflow:\t set goal dist = 5\n",
      "INFO:tensorflow:\t\t AverageReturn (eval distance=5.000000) -11.50\n",
      "INFO:tensorflow:\t\t predicted_dist = 12.1 (1.5)\n",
      "INFO:tensorflow:\t set goal dist = 10\n",
      "INFO:tensorflow:\t\t AverageReturn (eval distance=10.000000) -17.10\n",
      "INFO:tensorflow:\t\t predicted_dist = 14.0 (1.4)\n",
      "INFO:tensorflow:\t eval_time = 2.44\n"
     ]
    },
    {
     "name": "stderr",
     "output_type": "stream",
     "text": [
      " 50%|████▉     | 14996/30000 [04:27<03:14, 76.95it/s]"
     ]
    },
    {
     "name": "stdout",
     "output_type": "stream",
     "text": [
      "Saved checkpoint for step 15000: /home/blbudima/sgm/notebooks/../agents/thinned_custom/Custom_coordinate_18steps-May-26-2021-04-09-39-PM/ckpt/ckpt-15\n",
      "INFO:tensorflow:step = 15000, loss = 2.033025\n",
      "INFO:tensorflow:76.872 steps/sec\n",
      "INFO:tensorflow:step = 15000\n",
      "INFO:tensorflow:\t set goal dist = 2\n",
      "INFO:tensorflow:\t\t AverageReturn (eval distance=2.000000) -4.60\n",
      "INFO:tensorflow:\t\t predicted_dist = 9.3 (1.7)\n",
      "INFO:tensorflow:\t set goal dist = 5\n",
      "INFO:tensorflow:\t\t AverageReturn (eval distance=5.000000) -14.50\n",
      "INFO:tensorflow:\t\t predicted_dist = 10.2 (1.2)\n",
      "INFO:tensorflow:\t set goal dist = 10\n",
      "INFO:tensorflow:\t\t AverageReturn (eval distance=10.000000) -16.80\n",
      "INFO:tensorflow:\t\t predicted_dist = 13.5 (0.9)\n",
      "INFO:tensorflow:\t eval_time = 2.71\n"
     ]
    },
    {
     "name": "stderr",
     "output_type": "stream",
     "text": [
      " 53%|█████▎    | 15996/30000 [04:44<03:13, 72.34it/s]"
     ]
    },
    {
     "name": "stdout",
     "output_type": "stream",
     "text": [
      "Saved checkpoint for step 16000: /home/blbudima/sgm/notebooks/../agents/thinned_custom/Custom_coordinate_18steps-May-26-2021-04-09-39-PM/ckpt/ckpt-16\n",
      "INFO:tensorflow:step = 16000, loss = 2.341356\n",
      "INFO:tensorflow:74.928 steps/sec\n",
      "INFO:tensorflow:step = 16000\n",
      "INFO:tensorflow:\t set goal dist = 2\n",
      "INFO:tensorflow:\t\t AverageReturn (eval distance=2.000000) -6.10\n",
      "INFO:tensorflow:\t\t predicted_dist = 9.1 (2.3)\n",
      "INFO:tensorflow:\t set goal dist = 5\n",
      "INFO:tensorflow:\t\t AverageReturn (eval distance=5.000000) -12.10\n",
      "INFO:tensorflow:\t\t predicted_dist = 10.9 (1.6)\n",
      "INFO:tensorflow:\t set goal dist = 10\n",
      "INFO:tensorflow:\t\t AverageReturn (eval distance=10.000000) -15.40\n",
      "INFO:tensorflow:\t\t predicted_dist = 13.4 (1.3)\n",
      "INFO:tensorflow:\t eval_time = 2.44\n"
     ]
    },
    {
     "name": "stderr",
     "output_type": "stream",
     "text": [
      " 57%|█████▋    | 16999/30000 [05:02<05:39, 38.31it/s]"
     ]
    },
    {
     "name": "stdout",
     "output_type": "stream",
     "text": [
      "Saved checkpoint for step 17000: /home/blbudima/sgm/notebooks/../agents/thinned_custom/Custom_coordinate_18steps-May-26-2021-04-09-39-PM/ckpt/ckpt-17\n",
      "INFO:tensorflow:step = 17000, loss = 2.369474\n",
      "INFO:tensorflow:74.807 steps/sec\n",
      "INFO:tensorflow:step = 17000\n",
      "INFO:tensorflow:\t set goal dist = 2\n",
      "INFO:tensorflow:\t\t AverageReturn (eval distance=2.000000) -3.50\n",
      "INFO:tensorflow:\t\t predicted_dist = 8.5 (2.1)\n",
      "INFO:tensorflow:\t set goal dist = 5\n",
      "INFO:tensorflow:\t\t AverageReturn (eval distance=5.000000) -8.90\n",
      "INFO:tensorflow:\t\t predicted_dist = 11.2 (0.7)\n",
      "INFO:tensorflow:\t set goal dist = 10\n",
      "INFO:tensorflow:\t\t AverageReturn (eval distance=10.000000) -16.60\n",
      "INFO:tensorflow:\t\t predicted_dist = 12.8 (2.0)\n",
      "INFO:tensorflow:\t eval_time = 2.73\n"
     ]
    },
    {
     "name": "stderr",
     "output_type": "stream",
     "text": [
      " 60%|█████▉    | 17994/30000 [05:20<02:39, 75.34it/s]"
     ]
    },
    {
     "name": "stdout",
     "output_type": "stream",
     "text": [
      "Saved checkpoint for step 18000: /home/blbudima/sgm/notebooks/../agents/thinned_custom/Custom_coordinate_18steps-May-26-2021-04-09-39-PM/ckpt/ckpt-18\n",
      "INFO:tensorflow:step = 18000, loss = 2.691790\n",
      "INFO:tensorflow:74.600 steps/sec\n",
      "INFO:tensorflow:step = 18000\n",
      "INFO:tensorflow:\t set goal dist = 2\n",
      "INFO:tensorflow:\t\t AverageReturn (eval distance=2.000000) -4.80\n",
      "INFO:tensorflow:\t\t predicted_dist = 7.4 (1.5)\n",
      "INFO:tensorflow:\t set goal dist = 5\n",
      "INFO:tensorflow:\t\t AverageReturn (eval distance=5.000000) -10.50\n",
      "INFO:tensorflow:\t\t predicted_dist = 10.4 (0.7)\n",
      "INFO:tensorflow:\t set goal dist = 10\n",
      "INFO:tensorflow:\t\t AverageReturn (eval distance=10.000000) -15.10\n",
      "INFO:tensorflow:\t\t predicted_dist = 12.4 (0.9)\n",
      "INFO:tensorflow:\t eval_time = 2.49\n"
     ]
    },
    {
     "name": "stderr",
     "output_type": "stream",
     "text": [
      " 63%|██████▎   | 18992/30000 [05:37<02:19, 79.00it/s]"
     ]
    },
    {
     "name": "stdout",
     "output_type": "stream",
     "text": [
      "Saved checkpoint for step 19000: /home/blbudima/sgm/notebooks/../agents/thinned_custom/Custom_coordinate_18steps-May-26-2021-04-09-39-PM/ckpt/ckpt-19\n",
      "INFO:tensorflow:step = 19000, loss = 2.402445\n",
      "INFO:tensorflow:73.756 steps/sec\n",
      "INFO:tensorflow:step = 19000\n",
      "INFO:tensorflow:\t set goal dist = 2\n",
      "INFO:tensorflow:\t\t AverageReturn (eval distance=2.000000) -3.30\n",
      "INFO:tensorflow:\t\t predicted_dist = 7.5 (1.3)\n",
      "INFO:tensorflow:\t set goal dist = 5\n",
      "INFO:tensorflow:\t\t AverageReturn (eval distance=5.000000) -9.40\n",
      "INFO:tensorflow:\t\t predicted_dist = 9.9 (0.7)\n",
      "INFO:tensorflow:\t set goal dist = 10\n",
      "INFO:tensorflow:\t\t AverageReturn (eval distance=10.000000) -16.30\n",
      "INFO:tensorflow:\t\t predicted_dist = 12.2 (0.7)\n",
      "INFO:tensorflow:\t eval_time = 2.47\n"
     ]
    },
    {
     "name": "stderr",
     "output_type": "stream",
     "text": [
      " 67%|██████▋   | 19993/30000 [05:55<02:45, 60.62it/s]"
     ]
    },
    {
     "name": "stdout",
     "output_type": "stream",
     "text": [
      "Saved checkpoint for step 20000: /home/blbudima/sgm/notebooks/../agents/thinned_custom/Custom_coordinate_18steps-May-26-2021-04-09-39-PM/ckpt/ckpt-20\n",
      "INFO:tensorflow:step = 20000, loss = 2.549603\n",
      "INFO:tensorflow:75.580 steps/sec\n",
      "INFO:tensorflow:step = 20000\n",
      "INFO:tensorflow:\t set goal dist = 2\n",
      "INFO:tensorflow:\t\t AverageReturn (eval distance=2.000000) -3.00\n",
      "INFO:tensorflow:\t\t predicted_dist = 6.9 (1.0)\n",
      "INFO:tensorflow:\t set goal dist = 5\n",
      "INFO:tensorflow:\t\t AverageReturn (eval distance=5.000000) -9.20\n",
      "INFO:tensorflow:\t\t predicted_dist = 8.8 (0.8)\n",
      "INFO:tensorflow:\t set goal dist = 10\n",
      "INFO:tensorflow:\t\t AverageReturn (eval distance=10.000000) -15.50\n",
      "INFO:tensorflow:\t\t predicted_dist = 11.8 (0.8)\n",
      "INFO:tensorflow:\t eval_time = 2.57\n"
     ]
    },
    {
     "name": "stderr",
     "output_type": "stream",
     "text": [
      " 70%|██████▉   | 20998/30000 [06:12<02:25, 61.80it/s]"
     ]
    },
    {
     "name": "stdout",
     "output_type": "stream",
     "text": [
      "Saved checkpoint for step 21000: /home/blbudima/sgm/notebooks/../agents/thinned_custom/Custom_coordinate_18steps-May-26-2021-04-09-39-PM/ckpt/ckpt-21\n",
      "INFO:tensorflow:step = 21000, loss = 2.563117\n",
      "INFO:tensorflow:75.628 steps/sec\n",
      "INFO:tensorflow:step = 21000\n",
      "INFO:tensorflow:\t set goal dist = 2\n",
      "INFO:tensorflow:\t\t AverageReturn (eval distance=2.000000) -4.10\n",
      "INFO:tensorflow:\t\t predicted_dist = 7.7 (1.5)\n",
      "INFO:tensorflow:\t set goal dist = 5\n",
      "INFO:tensorflow:\t\t AverageReturn (eval distance=5.000000) -7.90\n",
      "INFO:tensorflow:\t\t predicted_dist = 10.7 (1.0)\n",
      "INFO:tensorflow:\t set goal dist = 10\n",
      "INFO:tensorflow:\t\t AverageReturn (eval distance=10.000000) -14.00\n",
      "INFO:tensorflow:\t\t predicted_dist = 11.9 (1.1)\n",
      "INFO:tensorflow:\t eval_time = 2.14\n"
     ]
    },
    {
     "name": "stderr",
     "output_type": "stream",
     "text": [
      " 73%|███████▎  | 21999/30000 [06:30<02:33, 52.01it/s]"
     ]
    },
    {
     "name": "stdout",
     "output_type": "stream",
     "text": [
      "Saved checkpoint for step 22000: /home/blbudima/sgm/notebooks/../agents/thinned_custom/Custom_coordinate_18steps-May-26-2021-04-09-39-PM/ckpt/ckpt-22\n",
      "INFO:tensorflow:step = 22000, loss = 2.919834\n",
      "INFO:tensorflow:73.763 steps/sec\n",
      "INFO:tensorflow:step = 22000\n",
      "INFO:tensorflow:\t set goal dist = 2\n",
      "INFO:tensorflow:\t\t AverageReturn (eval distance=2.000000) -3.20\n",
      "INFO:tensorflow:\t\t predicted_dist = 5.0 (2.2)\n",
      "INFO:tensorflow:\t set goal dist = 5\n",
      "INFO:tensorflow:\t\t AverageReturn (eval distance=5.000000) -8.00\n",
      "INFO:tensorflow:\t\t predicted_dist = 9.8 (1.3)\n",
      "INFO:tensorflow:\t set goal dist = 10\n",
      "INFO:tensorflow:\t\t AverageReturn (eval distance=10.000000) -16.20\n",
      "INFO:tensorflow:\t\t predicted_dist = 12.3 (1.2)\n",
      "INFO:tensorflow:\t eval_time = 2.45\n"
     ]
    },
    {
     "name": "stderr",
     "output_type": "stream",
     "text": [
      " 77%|███████▋  | 22999/30000 [06:47<03:05, 37.66it/s]"
     ]
    },
    {
     "name": "stdout",
     "output_type": "stream",
     "text": [
      "Saved checkpoint for step 23000: /home/blbudima/sgm/notebooks/../agents/thinned_custom/Custom_coordinate_18steps-May-26-2021-04-09-39-PM/ckpt/ckpt-23\n",
      "INFO:tensorflow:step = 23000, loss = 3.316268\n",
      "INFO:tensorflow:77.953 steps/sec\n",
      "INFO:tensorflow:step = 23000\n",
      "INFO:tensorflow:\t set goal dist = 2\n",
      "INFO:tensorflow:\t\t AverageReturn (eval distance=2.000000) -3.70\n",
      "INFO:tensorflow:\t\t predicted_dist = 4.9 (1.4)\n",
      "INFO:tensorflow:\t set goal dist = 5\n",
      "INFO:tensorflow:\t\t AverageReturn (eval distance=5.000000) -7.60\n",
      "INFO:tensorflow:\t\t predicted_dist = 9.1 (1.0)\n",
      "INFO:tensorflow:\t set goal dist = 10\n",
      "INFO:tensorflow:\t\t AverageReturn (eval distance=10.000000) -14.20\n",
      "INFO:tensorflow:\t\t predicted_dist = 11.1 (1.1)\n",
      "INFO:tensorflow:\t eval_time = 2.29\n"
     ]
    },
    {
     "name": "stderr",
     "output_type": "stream",
     "text": [
      " 80%|███████▉  | 23993/30000 [07:04<01:36, 62.57it/s]"
     ]
    },
    {
     "name": "stdout",
     "output_type": "stream",
     "text": [
      "Saved checkpoint for step 24000: /home/blbudima/sgm/notebooks/../agents/thinned_custom/Custom_coordinate_18steps-May-26-2021-04-09-39-PM/ckpt/ckpt-24\n",
      "INFO:tensorflow:step = 24000, loss = 3.025423\n",
      "INFO:tensorflow:71.971 steps/sec\n",
      "INFO:tensorflow:step = 24000\n",
      "INFO:tensorflow:\t set goal dist = 2\n",
      "INFO:tensorflow:\t\t AverageReturn (eval distance=2.000000) -2.80\n",
      "INFO:tensorflow:\t\t predicted_dist = 5.0 (1.7)\n",
      "INFO:tensorflow:\t set goal dist = 5\n",
      "INFO:tensorflow:\t\t AverageReturn (eval distance=5.000000) -9.90\n",
      "INFO:tensorflow:\t\t predicted_dist = 9.4 (1.2)\n",
      "INFO:tensorflow:\t set goal dist = 10\n",
      "INFO:tensorflow:\t\t AverageReturn (eval distance=10.000000) -15.30\n",
      "INFO:tensorflow:\t\t predicted_dist = 11.0 (1.0)\n",
      "INFO:tensorflow:\t eval_time = 2.17\n"
     ]
    },
    {
     "name": "stderr",
     "output_type": "stream",
     "text": [
      " 83%|████████▎ | 24998/30000 [07:22<01:10, 71.27it/s]"
     ]
    },
    {
     "name": "stdout",
     "output_type": "stream",
     "text": [
      "Saved checkpoint for step 25000: /home/blbudima/sgm/notebooks/../agents/thinned_custom/Custom_coordinate_18steps-May-26-2021-04-09-39-PM/ckpt/ckpt-25\n",
      "INFO:tensorflow:step = 25000, loss = 3.161917\n",
      "INFO:tensorflow:74.346 steps/sec\n",
      "INFO:tensorflow:step = 25000\n",
      "INFO:tensorflow:\t set goal dist = 2\n",
      "INFO:tensorflow:\t\t AverageReturn (eval distance=2.000000) -3.80\n",
      "INFO:tensorflow:\t\t predicted_dist = 6.1 (2.0)\n",
      "INFO:tensorflow:\t set goal dist = 5\n",
      "INFO:tensorflow:\t\t AverageReturn (eval distance=5.000000) -9.20\n",
      "INFO:tensorflow:\t\t predicted_dist = 9.7 (0.9)\n",
      "INFO:tensorflow:\t set goal dist = 10\n",
      "INFO:tensorflow:\t\t AverageReturn (eval distance=10.000000) -15.80\n",
      "INFO:tensorflow:\t\t predicted_dist = 12.0 (1.0)\n",
      "INFO:tensorflow:\t eval_time = 2.37\n"
     ]
    },
    {
     "name": "stderr",
     "output_type": "stream",
     "text": [
      " 87%|████████▋ | 25994/30000 [07:40<01:05, 61.49it/s]"
     ]
    },
    {
     "name": "stdout",
     "output_type": "stream",
     "text": [
      "Saved checkpoint for step 26000: /home/blbudima/sgm/notebooks/../agents/thinned_custom/Custom_coordinate_18steps-May-26-2021-04-09-39-PM/ckpt/ckpt-26\n",
      "INFO:tensorflow:step = 26000, loss = 2.933506\n",
      "INFO:tensorflow:70.964 steps/sec\n",
      "INFO:tensorflow:step = 26000\n",
      "INFO:tensorflow:\t set goal dist = 2\n",
      "INFO:tensorflow:\t\t AverageReturn (eval distance=2.000000) -4.40\n",
      "INFO:tensorflow:\t\t predicted_dist = 5.5 (1.6)\n",
      "INFO:tensorflow:\t set goal dist = 5\n",
      "INFO:tensorflow:\t\t AverageReturn (eval distance=5.000000) -6.40\n",
      "INFO:tensorflow:\t\t predicted_dist = 9.3 (1.0)\n",
      "INFO:tensorflow:\t set goal dist = 10\n",
      "INFO:tensorflow:\t\t AverageReturn (eval distance=10.000000) -16.20\n",
      "INFO:tensorflow:\t\t predicted_dist = 12.2 (0.8)\n",
      "INFO:tensorflow:\t eval_time = 2.54\n"
     ]
    },
    {
     "name": "stderr",
     "output_type": "stream",
     "text": [
      " 90%|████████▉ | 26995/30000 [07:57<00:46, 64.19it/s]"
     ]
    },
    {
     "name": "stdout",
     "output_type": "stream",
     "text": [
      "Saved checkpoint for step 27000: /home/blbudima/sgm/notebooks/../agents/thinned_custom/Custom_coordinate_18steps-May-26-2021-04-09-39-PM/ckpt/ckpt-27\n",
      "INFO:tensorflow:step = 27000, loss = 2.896369\n",
      "INFO:tensorflow:77.703 steps/sec\n",
      "INFO:tensorflow:step = 27000\n",
      "INFO:tensorflow:\t set goal dist = 2\n",
      "INFO:tensorflow:\t\t AverageReturn (eval distance=2.000000) -4.80\n",
      "INFO:tensorflow:\t\t predicted_dist = 5.2 (2.4)\n",
      "INFO:tensorflow:\t set goal dist = 5\n",
      "INFO:tensorflow:\t\t AverageReturn (eval distance=5.000000) -10.20\n",
      "INFO:tensorflow:\t\t predicted_dist = 9.2 (1.4)\n",
      "INFO:tensorflow:\t set goal dist = 10\n",
      "INFO:tensorflow:\t\t AverageReturn (eval distance=10.000000) -16.00\n",
      "INFO:tensorflow:\t\t predicted_dist = 10.8 (0.8)\n",
      "INFO:tensorflow:\t eval_time = 2.68\n"
     ]
    },
    {
     "name": "stderr",
     "output_type": "stream",
     "text": [
      " 93%|█████████▎| 27992/30000 [08:14<00:28, 70.69it/s]"
     ]
    },
    {
     "name": "stdout",
     "output_type": "stream",
     "text": [
      "Saved checkpoint for step 28000: /home/blbudima/sgm/notebooks/../agents/thinned_custom/Custom_coordinate_18steps-May-26-2021-04-09-39-PM/ckpt/ckpt-28\n",
      "INFO:tensorflow:step = 28000, loss = 2.500081\n",
      "INFO:tensorflow:79.638 steps/sec\n",
      "INFO:tensorflow:step = 28000\n",
      "INFO:tensorflow:\t set goal dist = 2\n",
      "INFO:tensorflow:\t\t AverageReturn (eval distance=2.000000) -2.70\n",
      "INFO:tensorflow:\t\t predicted_dist = 5.7 (1.5)\n",
      "INFO:tensorflow:\t set goal dist = 5\n",
      "INFO:tensorflow:\t\t AverageReturn (eval distance=5.000000) -7.10\n",
      "INFO:tensorflow:\t\t predicted_dist = 9.1 (1.1)\n",
      "INFO:tensorflow:\t set goal dist = 10\n",
      "INFO:tensorflow:\t\t AverageReturn (eval distance=10.000000) -15.00\n",
      "INFO:tensorflow:\t\t predicted_dist = 11.4 (1.6)\n",
      "INFO:tensorflow:\t eval_time = 2.15\n"
     ]
    },
    {
     "name": "stderr",
     "output_type": "stream",
     "text": [
      " 97%|█████████▋| 28998/30000 [08:30<00:13, 73.73it/s]"
     ]
    },
    {
     "name": "stdout",
     "output_type": "stream",
     "text": [
      "Saved checkpoint for step 29000: /home/blbudima/sgm/notebooks/../agents/thinned_custom/Custom_coordinate_18steps-May-26-2021-04-09-39-PM/ckpt/ckpt-29\n",
      "INFO:tensorflow:step = 29000, loss = 3.065169\n",
      "INFO:tensorflow:78.170 steps/sec\n",
      "INFO:tensorflow:step = 29000\n",
      "INFO:tensorflow:\t set goal dist = 2\n",
      "INFO:tensorflow:\t\t AverageReturn (eval distance=2.000000) -2.80\n",
      "INFO:tensorflow:\t\t predicted_dist = 6.0 (1.1)\n",
      "INFO:tensorflow:\t set goal dist = 5\n",
      "INFO:tensorflow:\t\t AverageReturn (eval distance=5.000000) -8.40\n",
      "INFO:tensorflow:\t\t predicted_dist = 8.2 (0.6)\n",
      "INFO:tensorflow:\t set goal dist = 10\n",
      "INFO:tensorflow:\t\t AverageReturn (eval distance=10.000000) -17.10\n",
      "INFO:tensorflow:\t\t predicted_dist = 10.7 (0.9)\n",
      "INFO:tensorflow:\t eval_time = 2.40\n"
     ]
    },
    {
     "name": "stderr",
     "output_type": "stream",
     "text": [
      "100%|█████████▉| 29999/30000 [08:47<00:00, 34.55it/s]"
     ]
    },
    {
     "name": "stdout",
     "output_type": "stream",
     "text": [
      "Saved checkpoint for step 30000: /home/blbudima/sgm/notebooks/../agents/thinned_custom/Custom_coordinate_18steps-May-26-2021-04-09-39-PM/ckpt/ckpt-30\n",
      "INFO:tensorflow:step = 30000, loss = 3.377657\n",
      "INFO:tensorflow:77.684 steps/sec\n",
      "INFO:tensorflow:step = 30000\n",
      "INFO:tensorflow:\t set goal dist = 2\n",
      "INFO:tensorflow:\t\t AverageReturn (eval distance=2.000000) -3.10\n",
      "INFO:tensorflow:\t\t predicted_dist = 5.7 (1.7)\n",
      "INFO:tensorflow:\t set goal dist = 5\n",
      "INFO:tensorflow:\t\t AverageReturn (eval distance=5.000000) -10.60\n",
      "INFO:tensorflow:\t\t predicted_dist = 9.3 (1.0)\n",
      "INFO:tensorflow:\t set goal dist = 10\n",
      "INFO:tensorflow:\t\t AverageReturn (eval distance=10.000000) -15.10\n",
      "INFO:tensorflow:\t\t predicted_dist = 12.1 (0.9)\n",
      "INFO:tensorflow:\t eval_time = 2.56\n"
     ]
    },
    {
     "name": "stderr",
     "output_type": "stream",
     "text": [
      "100%|██████████| 30000/30000 [08:50<00:00, 56.56it/s]\n"
     ]
    },
    {
     "data": {
      "text/plain": [
       "LossInfo(loss=<tf.Tensor: id=1183336, shape=(), dtype=float32, numpy=3.3776574>, extra=(<tf.Tensor: id=1183337, shape=(), dtype=float32, numpy=1.0094464>, <tf.Tensor: id=1183338, shape=(), dtype=float32, numpy=2.368211>))"
      ]
     },
     "execution_count": 26,
     "metadata": {},
     "output_type": "execute_result"
    }
   ],
   "source": [
    "from sgm.trainer import train_eval\n",
    "\n",
    "train_eval(agent,\n",
    "          tf_env,\n",
    "          eval_tf_env,\n",
    "          initial_collect_steps=1000,\n",
    "          eval_interval=1000,\n",
    "          num_eval_episodes=10,\n",
    "          num_iterations=30000,\n",
    "          save_model_dir=model_dir,\n",
    "          experiment_name=f\"{env_name}_coordinate_{max_episode_steps}steps\")"
   ]
  },
  {
   "cell_type": "markdown",
   "metadata": {},
   "source": [
    "# Load trained model into agent"
   ]
  },
  {
   "cell_type": "code",
   "execution_count": null,
   "metadata": {},
   "outputs": [],
   "source": [
    "filename = \"Custom_coordinate_18steps-May-26-2021-04-09-39-PM/ckpt/\"\n",
    "checkpoint_file = os.path.join(model_dir, filename)\n",
    "\n",
    "ckpt = tf.train.Checkpoint(step=tf.Variable(1), net=agent)\n",
    "manager = tf.train.CheckpointManager(ckpt, checkpoint_file, max_to_keep=3)\n",
    "ckpt.restore(manager.latest_checkpoint)"
   ]
  },
  {
   "cell_type": "markdown",
   "metadata": {},
   "source": [
    "# Fill replay buffer with random prefectly explored data"
   ]
  },
  {
   "cell_type": "code",
   "execution_count": null,
   "metadata": {},
   "outputs": [],
   "source": [
    "from sgm.envs import *\n",
    "\n",
    "#@title Fill the replay buffer with random data  {vertical-output: true, run: \"auto\" }\n",
    "replay_buffer_size = 2000 #@param {min:100, max: 1000, step: 100, type:\"slider\"}\n",
    "\n",
    "eval_tf_env.pyenv.envs[0].gym.set_sample_goal_args(\n",
    "    prob_constraint=0.0,\n",
    "    min_dist=0,\n",
    "    max_dist=6)\n",
    "rb_vec = []\n",
    "for it in range(replay_buffer_size):\n",
    "    ts = eval_tf_env.reset()\n",
    "    rb_vec.append(ts.observation['observation'].numpy()[0])\n",
    "rb_vec = np.array(rb_vec)"
   ]
  },
  {
   "cell_type": "code",
   "execution_count": null,
   "metadata": {},
   "outputs": [],
   "source": [
    "plt.figure(figsize=(6, 6))\n",
    "plt.scatter(*rb_vec.T)\n",
    "plot_walls(eval_tf_env.pyenv.envs[0].env.walls)\n",
    "plt.show()"
   ]
  },
  {
   "cell_type": "markdown",
   "metadata": {},
   "source": [
    "# Calculate qvalue distances"
   ]
  },
  {
   "cell_type": "code",
   "execution_count": null,
   "metadata": {},
   "outputs": [],
   "source": [
    "pdist = agent._get_pairwise_dist(rb_vec, aggregate=None).numpy()"
   ]
  },
  {
   "cell_type": "code",
   "execution_count": null,
   "metadata": {},
   "outputs": [],
   "source": [
    "plt.figure(figsize=(6, 3))\n",
    "plt.hist(pdist.flatten(), bins=range(20))\n",
    "plt.xlabel('predicted distance')\n",
    "plt.ylabel('number of (s, g) pairs')\n",
    "plt.show()"
   ]
  },
  {
   "cell_type": "markdown",
   "metadata": {},
   "source": [
    "# Calculate Euclidean distances"
   ]
  },
  {
   "cell_type": "code",
   "execution_count": null,
   "metadata": {},
   "outputs": [],
   "source": [
    "from scipy.spatial import distance\n",
    "euclidean_dists = distance.pdist(rb_vec)\n",
    "\n",
    "plt.figure(figsize=(6, 3))\n",
    "plt.hist(euclidean_dists.flatten())\n",
    "plt.xlabel('Euclidean distance')\n",
    "plt.ylabel('number of pairwise distances')\n",
    "plt.show()"
   ]
  },
  {
   "cell_type": "markdown",
   "metadata": {},
   "source": [
    "# Initialize SoRB search policy"
   ]
  },
  {
   "cell_type": "code",
   "execution_count": null,
   "metadata": {},
   "outputs": [],
   "source": [
    "from sgm.planner import SoRBSearchPolicy\n",
    "search_policy_type = \"SoRB\"\n",
    "agent.initialize_search(rb_vec, max_search_steps=18)\n",
    "search_policy = SoRBSearchPolicy(agent, pdist, rb_vec)"
   ]
  },
  {
   "cell_type": "markdown",
   "metadata": {},
   "source": [
    "# Cleanup and evaluate SoRB"
   ]
  },
  {
   "cell_type": "code",
   "execution_count": null,
   "metadata": {
    "scrolled": true
   },
   "outputs": [],
   "source": [
    "from sgm.evaluation import cleanup_and_eval\n",
    "\n",
    "logdir = os.path.join(os.getcwd(), os.pardir, \"logs\")\n",
    "eval_difficulty = 0.95\n",
    "k_nearest = 5\n",
    "eval_trials = 20\n",
    "total_cleanup_steps = 1000\n",
    "eval_period = 1000\n",
    "\n",
    "logfolder = cleanup_and_eval(search_policy,\n",
    "                             search_policy_type,\n",
    "                             desc_name,\n",
    "                             eval_tf_env,\n",
    "                             logdir,\n",
    "                             eval_difficulty=eval_difficulty,\n",
    "                             k_nearest=k_nearest,\n",
    "                             eval_trials=eval_trials,\n",
    "                             total_cleanup_steps=total_cleanup_steps,\n",
    "                             eval_period=eval_period)"
   ]
  },
  {
   "cell_type": "markdown",
   "metadata": {},
   "source": [
    "# Load cleanup graphs"
   ]
  },
  {
   "cell_type": "code",
   "execution_count": null,
   "metadata": {},
   "outputs": [],
   "source": [
    "from sgm.utils.visualization import *\n",
    "\n",
    "search_policy.load(os.path.join(logfolder, search_policy_type.lower().replace(\" \", \"_\") + \"_initial\"))\n",
    "initial_graph = search_policy._g.copy()\n",
    "\n",
    "search_policy.load(os.path.join(logfolder, search_policy_type.lower().replace(\" \", \"_\") + \"_filtered_0_cleanup_steps/\"))\n",
    "filtered_graph = search_policy._g.copy()\n",
    "\n",
    "search_policy.load(os.path.join(logfolder, search_policy_type.lower().replace(\" \", \"_\") + \"_filtered_{}_cleanup_steps/\".format(total_cleanup_steps)))\n",
    "cleaned_graph = search_policy._g.copy()\n",
    "\n",
    "pruned_graph = nx.difference(filtered_graph, cleaned_graph)"
   ]
  },
  {
   "cell_type": "markdown",
   "metadata": {},
   "source": [
    "# Visualize cleanup graphs"
   ]
  },
  {
   "cell_type": "code",
   "execution_count": null,
   "metadata": {},
   "outputs": [],
   "source": [
    "plot_points(search_policy.rb_vec, eval_tf_env)"
   ]
  },
  {
   "cell_type": "code",
   "execution_count": null,
   "metadata": {},
   "outputs": [],
   "source": [
    "plot_graph(initial_graph, search_policy.rb_vec, eval_tf_env)"
   ]
  },
  {
   "cell_type": "code",
   "execution_count": null,
   "metadata": {},
   "outputs": [],
   "source": [
    "plot_graph(filtered_graph, search_policy.rb_vec, eval_tf_env)"
   ]
  },
  {
   "cell_type": "code",
   "execution_count": null,
   "metadata": {},
   "outputs": [],
   "source": [
    "plot_graph(cleaned_graph, search_policy.rb_vec, eval_tf_env)"
   ]
  },
  {
   "cell_type": "code",
   "execution_count": null,
   "metadata": {},
   "outputs": [],
   "source": [
    "plot_graph(pruned_graph, search_policy.rb_vec, eval_tf_env)"
   ]
  }
 ],
 "metadata": {
  "kernelspec": {
   "display_name": "Python (sgm)",
   "language": "python",
   "name": "myenv"
  },
  "language_info": {
   "codemirror_mode": {
    "name": "ipython",
    "version": 3
   },
   "file_extension": ".py",
   "mimetype": "text/x-python",
   "name": "python",
   "nbconvert_exporter": "python",
   "pygments_lexer": "ipython3",
   "version": "3.6.13"
  },
  "pycharm": {
   "stem_cell": {
    "cell_type": "raw",
    "metadata": {
     "collapsed": false
    },
    "source": []
   }
  },
  "widgets": {
   "application/vnd.jupyter.widget-state+json": {
    "state": {
     "270a026caf2744d89264290c244515e5": {
      "model_module": "@jupyter-widgets/controls",
      "model_module_version": "1.5.0",
      "model_name": "ProgressStyleModel",
      "state": {
       "_model_module": "@jupyter-widgets/controls",
       "_model_module_version": "1.5.0",
       "_model_name": "ProgressStyleModel",
       "_view_count": null,
       "_view_module": "@jupyter-widgets/base",
       "_view_module_version": "1.2.0",
       "_view_name": "StyleView",
       "bar_color": null,
       "description_width": "initial"
      }
     },
     "3790510d71ef4fee87ab1b9cdd0ffe48": {
      "model_module": "@jupyter-widgets/controls",
      "model_module_version": "1.5.0",
      "model_name": "HBoxModel",
      "state": {
       "_dom_classes": [],
       "_model_module": "@jupyter-widgets/controls",
       "_model_module_version": "1.5.0",
       "_model_name": "HBoxModel",
       "_view_count": null,
       "_view_module": "@jupyter-widgets/controls",
       "_view_module_version": "1.5.0",
       "_view_name": "HBoxView",
       "box_style": "",
       "children": [
        "IPY_MODEL_88a91038ce954e59a97a2a492742e0e4",
        "IPY_MODEL_c684d0368fa84b4390381de7e3d20de8"
       ],
       "layout": "IPY_MODEL_eada7eb6b79446cf981890438f66ff37"
      }
     },
     "3b78f4a315dc4cb2b819fe6201a97792": {
      "model_module": "@jupyter-widgets/controls",
      "model_module_version": "1.5.0",
      "model_name": "IntProgressModel",
      "state": {
       "_dom_classes": [],
       "_model_module": "@jupyter-widgets/controls",
       "_model_module_version": "1.5.0",
       "_model_name": "IntProgressModel",
       "_view_count": null,
       "_view_module": "@jupyter-widgets/controls",
       "_view_module_version": "1.5.0",
       "_view_name": "ProgressView",
       "bar_style": "success",
       "description": "critic 1 / 3: 100%",
       "description_tooltip": null,
       "layout": "IPY_MODEL_4896f6bfb7494c5ab84d67c4fb458966",
       "max": 2000,
       "min": 0,
       "orientation": "horizontal",
       "style": "IPY_MODEL_270a026caf2744d89264290c244515e5",
       "value": 2000
      }
     },
     "42edabcfb9b64616b33dddf0abe38743": {
      "model_module": "@jupyter-widgets/base",
      "model_module_version": "1.2.0",
      "model_name": "LayoutModel",
      "state": {
       "_model_module": "@jupyter-widgets/base",
       "_model_module_version": "1.2.0",
       "_model_name": "LayoutModel",
       "_view_count": null,
       "_view_module": "@jupyter-widgets/base",
       "_view_module_version": "1.2.0",
       "_view_name": "LayoutView",
       "align_content": null,
       "align_items": null,
       "align_self": null,
       "border": null,
       "bottom": null,
       "display": null,
       "flex": null,
       "flex_flow": null,
       "grid_area": null,
       "grid_auto_columns": null,
       "grid_auto_flow": null,
       "grid_auto_rows": null,
       "grid_column": null,
       "grid_gap": null,
       "grid_row": null,
       "grid_template_areas": null,
       "grid_template_columns": null,
       "grid_template_rows": null,
       "height": null,
       "justify_content": null,
       "justify_items": null,
       "left": null,
       "margin": null,
       "max_height": null,
       "max_width": null,
       "min_height": null,
       "min_width": null,
       "object_fit": null,
       "object_position": null,
       "order": null,
       "overflow": null,
       "overflow_x": null,
       "overflow_y": null,
       "padding": null,
       "right": null,
       "top": null,
       "visibility": null,
       "width": null
      }
     },
     "46366eb4c222433f97fb7404fbed3646": {
      "model_module": "@jupyter-widgets/base",
      "model_module_version": "1.2.0",
      "model_name": "LayoutModel",
      "state": {
       "_model_module": "@jupyter-widgets/base",
       "_model_module_version": "1.2.0",
       "_model_name": "LayoutModel",
       "_view_count": null,
       "_view_module": "@jupyter-widgets/base",
       "_view_module_version": "1.2.0",
       "_view_name": "LayoutView",
       "align_content": null,
       "align_items": null,
       "align_self": null,
       "border": null,
       "bottom": null,
       "display": null,
       "flex": null,
       "flex_flow": null,
       "grid_area": null,
       "grid_auto_columns": null,
       "grid_auto_flow": null,
       "grid_auto_rows": null,
       "grid_column": null,
       "grid_gap": null,
       "grid_row": null,
       "grid_template_areas": null,
       "grid_template_columns": null,
       "grid_template_rows": null,
       "height": null,
       "justify_content": null,
       "justify_items": null,
       "left": null,
       "margin": null,
       "max_height": null,
       "max_width": null,
       "min_height": null,
       "min_width": null,
       "object_fit": null,
       "object_position": null,
       "order": null,
       "overflow": null,
       "overflow_x": null,
       "overflow_y": null,
       "padding": null,
       "right": null,
       "top": null,
       "visibility": null,
       "width": null
      }
     },
     "4896f6bfb7494c5ab84d67c4fb458966": {
      "model_module": "@jupyter-widgets/base",
      "model_module_version": "1.2.0",
      "model_name": "LayoutModel",
      "state": {
       "_model_module": "@jupyter-widgets/base",
       "_model_module_version": "1.2.0",
       "_model_name": "LayoutModel",
       "_view_count": null,
       "_view_module": "@jupyter-widgets/base",
       "_view_module_version": "1.2.0",
       "_view_name": "LayoutView",
       "align_content": null,
       "align_items": null,
       "align_self": null,
       "border": null,
       "bottom": null,
       "display": null,
       "flex": null,
       "flex_flow": null,
       "grid_area": null,
       "grid_auto_columns": null,
       "grid_auto_flow": null,
       "grid_auto_rows": null,
       "grid_column": null,
       "grid_gap": null,
       "grid_row": null,
       "grid_template_areas": null,
       "grid_template_columns": null,
       "grid_template_rows": null,
       "height": null,
       "justify_content": null,
       "justify_items": null,
       "left": null,
       "margin": null,
       "max_height": null,
       "max_width": null,
       "min_height": null,
       "min_width": null,
       "object_fit": null,
       "object_position": null,
       "order": null,
       "overflow": null,
       "overflow_x": null,
       "overflow_y": null,
       "padding": null,
       "right": null,
       "top": null,
       "visibility": null,
       "width": null
      }
     },
     "4a7a23d1fd3b40c092eb53aa8cc160b9": {
      "model_module": "@jupyter-widgets/controls",
      "model_module_version": "1.5.0",
      "model_name": "DescriptionStyleModel",
      "state": {
       "_model_module": "@jupyter-widgets/controls",
       "_model_module_version": "1.5.0",
       "_model_name": "DescriptionStyleModel",
       "_view_count": null,
       "_view_module": "@jupyter-widgets/base",
       "_view_module_version": "1.2.0",
       "_view_name": "StyleView",
       "description_width": ""
      }
     },
     "672786403ee34281b69ca1a7cdc3c484": {
      "model_module": "@jupyter-widgets/base",
      "model_module_version": "1.2.0",
      "model_name": "LayoutModel",
      "state": {
       "_model_module": "@jupyter-widgets/base",
       "_model_module_version": "1.2.0",
       "_model_name": "LayoutModel",
       "_view_count": null,
       "_view_module": "@jupyter-widgets/base",
       "_view_module_version": "1.2.0",
       "_view_name": "LayoutView",
       "align_content": null,
       "align_items": null,
       "align_self": null,
       "border": null,
       "bottom": null,
       "display": null,
       "flex": null,
       "flex_flow": null,
       "grid_area": null,
       "grid_auto_columns": null,
       "grid_auto_flow": null,
       "grid_auto_rows": null,
       "grid_column": null,
       "grid_gap": null,
       "grid_row": null,
       "grid_template_areas": null,
       "grid_template_columns": null,
       "grid_template_rows": null,
       "height": null,
       "justify_content": null,
       "justify_items": null,
       "left": null,
       "margin": null,
       "max_height": null,
       "max_width": null,
       "min_height": null,
       "min_width": null,
       "object_fit": null,
       "object_position": null,
       "order": null,
       "overflow": null,
       "overflow_x": null,
       "overflow_y": null,
       "padding": null,
       "right": null,
       "top": null,
       "visibility": null,
       "width": null
      }
     },
     "7376f68a80d34c2591d9762fe708cfa4": {
      "model_module": "@jupyter-widgets/base",
      "model_module_version": "1.2.0",
      "model_name": "LayoutModel",
      "state": {
       "_model_module": "@jupyter-widgets/base",
       "_model_module_version": "1.2.0",
       "_model_name": "LayoutModel",
       "_view_count": null,
       "_view_module": "@jupyter-widgets/base",
       "_view_module_version": "1.2.0",
       "_view_name": "LayoutView",
       "align_content": null,
       "align_items": null,
       "align_self": null,
       "border": null,
       "bottom": null,
       "display": null,
       "flex": null,
       "flex_flow": null,
       "grid_area": null,
       "grid_auto_columns": null,
       "grid_auto_flow": null,
       "grid_auto_rows": null,
       "grid_column": null,
       "grid_gap": null,
       "grid_row": null,
       "grid_template_areas": null,
       "grid_template_columns": null,
       "grid_template_rows": null,
       "height": null,
       "justify_content": null,
       "justify_items": null,
       "left": null,
       "margin": null,
       "max_height": null,
       "max_width": null,
       "min_height": null,
       "min_width": null,
       "object_fit": null,
       "object_position": null,
       "order": null,
       "overflow": null,
       "overflow_x": null,
       "overflow_y": null,
       "padding": null,
       "right": null,
       "top": null,
       "visibility": null,
       "width": null
      }
     },
     "75a847785a52482b9aa6be9a22424810": {
      "model_module": "@jupyter-widgets/base",
      "model_module_version": "1.2.0",
      "model_name": "LayoutModel",
      "state": {
       "_model_module": "@jupyter-widgets/base",
       "_model_module_version": "1.2.0",
       "_model_name": "LayoutModel",
       "_view_count": null,
       "_view_module": "@jupyter-widgets/base",
       "_view_module_version": "1.2.0",
       "_view_name": "LayoutView",
       "align_content": null,
       "align_items": null,
       "align_self": null,
       "border": null,
       "bottom": null,
       "display": null,
       "flex": null,
       "flex_flow": null,
       "grid_area": null,
       "grid_auto_columns": null,
       "grid_auto_flow": null,
       "grid_auto_rows": null,
       "grid_column": null,
       "grid_gap": null,
       "grid_row": null,
       "grid_template_areas": null,
       "grid_template_columns": null,
       "grid_template_rows": null,
       "height": null,
       "justify_content": null,
       "justify_items": null,
       "left": null,
       "margin": null,
       "max_height": null,
       "max_width": null,
       "min_height": null,
       "min_width": null,
       "object_fit": null,
       "object_position": null,
       "order": null,
       "overflow": null,
       "overflow_x": null,
       "overflow_y": null,
       "padding": null,
       "right": null,
       "top": null,
       "visibility": null,
       "width": null
      }
     },
     "88a91038ce954e59a97a2a492742e0e4": {
      "model_module": "@jupyter-widgets/controls",
      "model_module_version": "1.5.0",
      "model_name": "IntProgressModel",
      "state": {
       "_dom_classes": [],
       "_model_module": "@jupyter-widgets/controls",
       "_model_module_version": "1.5.0",
       "_model_name": "IntProgressModel",
       "_view_count": null,
       "_view_module": "@jupyter-widgets/controls",
       "_view_module_version": "1.5.0",
       "_view_name": "ProgressView",
       "bar_style": "success",
       "description": "critic 2 / 3: 100%",
       "description_tooltip": null,
       "layout": "IPY_MODEL_75a847785a52482b9aa6be9a22424810",
       "max": 2000,
       "min": 0,
       "orientation": "horizontal",
       "style": "IPY_MODEL_cdcb92c167ab45ffa9b57efde6b79a7f",
       "value": 2000
      }
     },
     "9aa1ded207cf4a85b374c5221ff02609": {
      "model_module": "@jupyter-widgets/controls",
      "model_module_version": "1.5.0",
      "model_name": "HTMLModel",
      "state": {
       "_dom_classes": [],
       "_model_module": "@jupyter-widgets/controls",
       "_model_module_version": "1.5.0",
       "_model_name": "HTMLModel",
       "_view_count": null,
       "_view_module": "@jupyter-widgets/controls",
       "_view_module_version": "1.5.0",
       "_view_name": "HTMLView",
       "description": "",
       "description_tooltip": null,
       "layout": "IPY_MODEL_fb25173e28f3437ea96d1da8b53bafff",
       "placeholder": "​",
       "style": "IPY_MODEL_fb370955fe5149d0a2df88dcba62eec0",
       "value": " 2000/2000 [02:06&lt;00:00, 15.78it/s]"
      }
     },
     "a36aed3611bb4d4aa6c5782710fbc97c": {
      "model_module": "@jupyter-widgets/controls",
      "model_module_version": "1.5.0",
      "model_name": "IntProgressModel",
      "state": {
       "_dom_classes": [],
       "_model_module": "@jupyter-widgets/controls",
       "_model_module_version": "1.5.0",
       "_model_name": "IntProgressModel",
       "_view_count": null,
       "_view_module": "@jupyter-widgets/controls",
       "_view_module_version": "1.5.0",
       "_view_name": "ProgressView",
       "bar_style": "success",
       "description": "critic 3 / 3: 100%",
       "description_tooltip": null,
       "layout": "IPY_MODEL_672786403ee34281b69ca1a7cdc3c484",
       "max": 2000,
       "min": 0,
       "orientation": "horizontal",
       "style": "IPY_MODEL_a48214825fe6489782480cc790b7979b",
       "value": 2000
      }
     },
     "a48214825fe6489782480cc790b7979b": {
      "model_module": "@jupyter-widgets/controls",
      "model_module_version": "1.5.0",
      "model_name": "ProgressStyleModel",
      "state": {
       "_model_module": "@jupyter-widgets/controls",
       "_model_module_version": "1.5.0",
       "_model_name": "ProgressStyleModel",
       "_view_count": null,
       "_view_module": "@jupyter-widgets/base",
       "_view_module_version": "1.2.0",
       "_view_name": "StyleView",
       "bar_color": null,
       "description_width": "initial"
      }
     },
     "be0b6386339149728b7471a2cd1f6a43": {
      "model_module": "@jupyter-widgets/base",
      "model_module_version": "1.2.0",
      "model_name": "LayoutModel",
      "state": {
       "_model_module": "@jupyter-widgets/base",
       "_model_module_version": "1.2.0",
       "_model_name": "LayoutModel",
       "_view_count": null,
       "_view_module": "@jupyter-widgets/base",
       "_view_module_version": "1.2.0",
       "_view_name": "LayoutView",
       "align_content": null,
       "align_items": null,
       "align_self": null,
       "border": null,
       "bottom": null,
       "display": null,
       "flex": null,
       "flex_flow": null,
       "grid_area": null,
       "grid_auto_columns": null,
       "grid_auto_flow": null,
       "grid_auto_rows": null,
       "grid_column": null,
       "grid_gap": null,
       "grid_row": null,
       "grid_template_areas": null,
       "grid_template_columns": null,
       "grid_template_rows": null,
       "height": null,
       "justify_content": null,
       "justify_items": null,
       "left": null,
       "margin": null,
       "max_height": null,
       "max_width": null,
       "min_height": null,
       "min_width": null,
       "object_fit": null,
       "object_position": null,
       "order": null,
       "overflow": null,
       "overflow_x": null,
       "overflow_y": null,
       "padding": null,
       "right": null,
       "top": null,
       "visibility": null,
       "width": null
      }
     },
     "c684d0368fa84b4390381de7e3d20de8": {
      "model_module": "@jupyter-widgets/controls",
      "model_module_version": "1.5.0",
      "model_name": "HTMLModel",
      "state": {
       "_dom_classes": [],
       "_model_module": "@jupyter-widgets/controls",
       "_model_module_version": "1.5.0",
       "_model_name": "HTMLModel",
       "_view_count": null,
       "_view_module": "@jupyter-widgets/controls",
       "_view_module_version": "1.5.0",
       "_view_name": "HTMLView",
       "description": "",
       "description_tooltip": null,
       "layout": "IPY_MODEL_be0b6386339149728b7471a2cd1f6a43",
       "placeholder": "​",
       "style": "IPY_MODEL_d6eccea9df7f47cbaefb2ccaec9a5b8f",
       "value": " 2000/2000 [00:11&lt;00:00, 166.79it/s]"
      }
     },
     "cdcb92c167ab45ffa9b57efde6b79a7f": {
      "model_module": "@jupyter-widgets/controls",
      "model_module_version": "1.5.0",
      "model_name": "ProgressStyleModel",
      "state": {
       "_model_module": "@jupyter-widgets/controls",
       "_model_module_version": "1.5.0",
       "_model_name": "ProgressStyleModel",
       "_view_count": null,
       "_view_module": "@jupyter-widgets/base",
       "_view_module_version": "1.2.0",
       "_view_name": "StyleView",
       "bar_color": null,
       "description_width": "initial"
      }
     },
     "d4bc08cd59f54a5e86f42ddfcc3a2d7f": {
      "model_module": "@jupyter-widgets/controls",
      "model_module_version": "1.5.0",
      "model_name": "HTMLModel",
      "state": {
       "_dom_classes": [],
       "_model_module": "@jupyter-widgets/controls",
       "_model_module_version": "1.5.0",
       "_model_name": "HTMLModel",
       "_view_count": null,
       "_view_module": "@jupyter-widgets/controls",
       "_view_module_version": "1.5.0",
       "_view_name": "HTMLView",
       "description": "",
       "description_tooltip": null,
       "layout": "IPY_MODEL_46366eb4c222433f97fb7404fbed3646",
       "placeholder": "​",
       "style": "IPY_MODEL_4a7a23d1fd3b40c092eb53aa8cc160b9",
       "value": " 2000/2000 [00:12&lt;00:00, 165.09it/s]"
      }
     },
     "d6eccea9df7f47cbaefb2ccaec9a5b8f": {
      "model_module": "@jupyter-widgets/controls",
      "model_module_version": "1.5.0",
      "model_name": "DescriptionStyleModel",
      "state": {
       "_model_module": "@jupyter-widgets/controls",
       "_model_module_version": "1.5.0",
       "_model_name": "DescriptionStyleModel",
       "_view_count": null,
       "_view_module": "@jupyter-widgets/base",
       "_view_module_version": "1.2.0",
       "_view_name": "StyleView",
       "description_width": ""
      }
     },
     "d99240c896cd4936bacdef53b940ce83": {
      "model_module": "@jupyter-widgets/controls",
      "model_module_version": "1.5.0",
      "model_name": "HBoxModel",
      "state": {
       "_dom_classes": [],
       "_model_module": "@jupyter-widgets/controls",
       "_model_module_version": "1.5.0",
       "_model_name": "HBoxModel",
       "_view_count": null,
       "_view_module": "@jupyter-widgets/controls",
       "_view_module_version": "1.5.0",
       "_view_name": "HBoxView",
       "box_style": "",
       "children": [
        "IPY_MODEL_3b78f4a315dc4cb2b819fe6201a97792",
        "IPY_MODEL_d4bc08cd59f54a5e86f42ddfcc3a2d7f"
       ],
       "layout": "IPY_MODEL_7376f68a80d34c2591d9762fe708cfa4"
      }
     },
     "db32573aa7ec46008369416efac76c86": {
      "model_module": "@jupyter-widgets/controls",
      "model_module_version": "1.5.0",
      "model_name": "HBoxModel",
      "state": {
       "_dom_classes": [],
       "_model_module": "@jupyter-widgets/controls",
       "_model_module_version": "1.5.0",
       "_model_name": "HBoxModel",
       "_view_count": null,
       "_view_module": "@jupyter-widgets/controls",
       "_view_module_version": "1.5.0",
       "_view_name": "HBoxView",
       "box_style": "",
       "children": [
        "IPY_MODEL_a36aed3611bb4d4aa6c5782710fbc97c",
        "IPY_MODEL_9aa1ded207cf4a85b374c5221ff02609"
       ],
       "layout": "IPY_MODEL_42edabcfb9b64616b33dddf0abe38743"
      }
     },
     "eada7eb6b79446cf981890438f66ff37": {
      "model_module": "@jupyter-widgets/base",
      "model_module_version": "1.2.0",
      "model_name": "LayoutModel",
      "state": {
       "_model_module": "@jupyter-widgets/base",
       "_model_module_version": "1.2.0",
       "_model_name": "LayoutModel",
       "_view_count": null,
       "_view_module": "@jupyter-widgets/base",
       "_view_module_version": "1.2.0",
       "_view_name": "LayoutView",
       "align_content": null,
       "align_items": null,
       "align_self": null,
       "border": null,
       "bottom": null,
       "display": null,
       "flex": null,
       "flex_flow": null,
       "grid_area": null,
       "grid_auto_columns": null,
       "grid_auto_flow": null,
       "grid_auto_rows": null,
       "grid_column": null,
       "grid_gap": null,
       "grid_row": null,
       "grid_template_areas": null,
       "grid_template_columns": null,
       "grid_template_rows": null,
       "height": null,
       "justify_content": null,
       "justify_items": null,
       "left": null,
       "margin": null,
       "max_height": null,
       "max_width": null,
       "min_height": null,
       "min_width": null,
       "object_fit": null,
       "object_position": null,
       "order": null,
       "overflow": null,
       "overflow_x": null,
       "overflow_y": null,
       "padding": null,
       "right": null,
       "top": null,
       "visibility": null,
       "width": null
      }
     },
     "fb25173e28f3437ea96d1da8b53bafff": {
      "model_module": "@jupyter-widgets/base",
      "model_module_version": "1.2.0",
      "model_name": "LayoutModel",
      "state": {
       "_model_module": "@jupyter-widgets/base",
       "_model_module_version": "1.2.0",
       "_model_name": "LayoutModel",
       "_view_count": null,
       "_view_module": "@jupyter-widgets/base",
       "_view_module_version": "1.2.0",
       "_view_name": "LayoutView",
       "align_content": null,
       "align_items": null,
       "align_self": null,
       "border": null,
       "bottom": null,
       "display": null,
       "flex": null,
       "flex_flow": null,
       "grid_area": null,
       "grid_auto_columns": null,
       "grid_auto_flow": null,
       "grid_auto_rows": null,
       "grid_column": null,
       "grid_gap": null,
       "grid_row": null,
       "grid_template_areas": null,
       "grid_template_columns": null,
       "grid_template_rows": null,
       "height": null,
       "justify_content": null,
       "justify_items": null,
       "left": null,
       "margin": null,
       "max_height": null,
       "max_width": null,
       "min_height": null,
       "min_width": null,
       "object_fit": null,
       "object_position": null,
       "order": null,
       "overflow": null,
       "overflow_x": null,
       "overflow_y": null,
       "padding": null,
       "right": null,
       "top": null,
       "visibility": null,
       "width": null
      }
     },
     "fb370955fe5149d0a2df88dcba62eec0": {
      "model_module": "@jupyter-widgets/controls",
      "model_module_version": "1.5.0",
      "model_name": "DescriptionStyleModel",
      "state": {
       "_model_module": "@jupyter-widgets/controls",
       "_model_module_version": "1.5.0",
       "_model_name": "DescriptionStyleModel",
       "_view_count": null,
       "_view_module": "@jupyter-widgets/base",
       "_view_module_version": "1.2.0",
       "_view_name": "StyleView",
       "description_width": ""
      }
     }
    },
    "version_major": 2,
    "version_minor": 0
   }
  }
 },
 "nbformat": 4,
 "nbformat_minor": 4
}
